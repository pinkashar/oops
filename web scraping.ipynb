{
 "cells": [
  {
   "cell_type": "markdown",
   "metadata": {},
   "source": [
    "# web scraping"
   ]
  },
  {
   "cell_type": "code",
   "execution_count": 1,
   "metadata": {},
   "outputs": [],
   "source": [
    "# pip install requests\n",
    "# pip install lxml\n",
    "# pip install bs4"
   ]
  },
  {
   "cell_type": "code",
   "execution_count": 2,
   "metadata": {},
   "outputs": [],
   "source": [
    "import requests"
   ]
  },
  {
   "cell_type": "code",
   "execution_count": 7,
   "metadata": {},
   "outputs": [],
   "source": [
    "res = requests.get(\"https://www.example.com\")"
   ]
  },
  {
   "cell_type": "code",
   "execution_count": 8,
   "metadata": {},
   "outputs": [
    {
     "data": {
      "text/plain": [
       "requests.models.Response"
      ]
     },
     "execution_count": 8,
     "metadata": {},
     "output_type": "execute_result"
    }
   ],
   "source": [
    "type(res)"
   ]
  },
  {
   "cell_type": "code",
   "execution_count": 10,
   "metadata": {},
   "outputs": [
    {
     "data": {
      "text/plain": [
       "'<!doctype html>\\n<html>\\n<head>\\n    <title>Example Domain</title>\\n\\n    <meta charset=\"utf-8\" />\\n    <meta http-equiv=\"Content-type\" content=\"text/html; charset=utf-8\" />\\n    <meta name=\"viewport\" content=\"width=device-width, initial-scale=1\" />\\n    <style type=\"text/css\">\\n    body {\\n        background-color: #f0f0f2;\\n        margin: 0;\\n        padding: 0;\\n        font-family: -apple-system, system-ui, BlinkMacSystemFont, \"Segoe UI\", \"Open Sans\", \"Helvetica Neue\", Helvetica, Arial, sans-serif;\\n        \\n    }\\n    div {\\n        width: 600px;\\n        margin: 5em auto;\\n        padding: 2em;\\n        background-color: #fdfdff;\\n        border-radius: 0.5em;\\n        box-shadow: 2px 3px 7px 2px rgba(0,0,0,0.02);\\n    }\\n    a:link, a:visited {\\n        color: #38488f;\\n        text-decoration: none;\\n    }\\n    @media (max-width: 700px) {\\n        div {\\n            margin: 0 auto;\\n            width: auto;\\n        }\\n    }\\n    </style>    \\n</head>\\n\\n<body>\\n<div>\\n    <h1>Example Domain</h1>\\n    <p>This domain is for use in illustrative examples in documents. You may use this\\n    domain in literature without prior coordination or asking for permission.</p>\\n    <p><a href=\"https://www.iana.org/domains/example\">More information...</a></p>\\n</div>\\n</body>\\n</html>\\n'"
      ]
     },
     "execution_count": 10,
     "metadata": {},
     "output_type": "execute_result"
    }
   ],
   "source": [
    "res.text"
   ]
  },
  {
   "cell_type": "code",
   "execution_count": null,
   "metadata": {},
   "outputs": [],
   "source": []
  },
  {
   "cell_type": "code",
   "execution_count": null,
   "metadata": {},
   "outputs": [],
   "source": []
  },
  {
   "cell_type": "code",
   "execution_count": 11,
   "metadata": {},
   "outputs": [],
   "source": [
    "import bs4"
   ]
  },
  {
   "cell_type": "code",
   "execution_count": 12,
   "metadata": {},
   "outputs": [],
   "source": [
    "data = bs4.BeautifulSoup(res.text , 'lxml')"
   ]
  },
  {
   "cell_type": "code",
   "execution_count": 13,
   "metadata": {},
   "outputs": [
    {
     "data": {
      "text/plain": [
       "<!DOCTYPE html>\n",
       "<html>\n",
       "<head>\n",
       "<title>Example Domain</title>\n",
       "<meta charset=\"utf-8\"/>\n",
       "<meta content=\"text/html; charset=utf-8\" http-equiv=\"Content-type\"/>\n",
       "<meta content=\"width=device-width, initial-scale=1\" name=\"viewport\"/>\n",
       "<style type=\"text/css\">\n",
       "    body {\n",
       "        background-color: #f0f0f2;\n",
       "        margin: 0;\n",
       "        padding: 0;\n",
       "        font-family: -apple-system, system-ui, BlinkMacSystemFont, \"Segoe UI\", \"Open Sans\", \"Helvetica Neue\", Helvetica, Arial, sans-serif;\n",
       "        \n",
       "    }\n",
       "    div {\n",
       "        width: 600px;\n",
       "        margin: 5em auto;\n",
       "        padding: 2em;\n",
       "        background-color: #fdfdff;\n",
       "        border-radius: 0.5em;\n",
       "        box-shadow: 2px 3px 7px 2px rgba(0,0,0,0.02);\n",
       "    }\n",
       "    a:link, a:visited {\n",
       "        color: #38488f;\n",
       "        text-decoration: none;\n",
       "    }\n",
       "    @media (max-width: 700px) {\n",
       "        div {\n",
       "            margin: 0 auto;\n",
       "            width: auto;\n",
       "        }\n",
       "    }\n",
       "    </style>\n",
       "</head>\n",
       "<body>\n",
       "<div>\n",
       "<h1>Example Domain</h1>\n",
       "<p>This domain is for use in illustrative examples in documents. You may use this\n",
       "    domain in literature without prior coordination or asking for permission.</p>\n",
       "<p><a href=\"https://www.iana.org/domains/example\">More information...</a></p>\n",
       "</div>\n",
       "</body>\n",
       "</html>"
      ]
     },
     "execution_count": 13,
     "metadata": {},
     "output_type": "execute_result"
    }
   ],
   "source": [
    "data"
   ]
  },
  {
   "cell_type": "code",
   "execution_count": null,
   "metadata": {},
   "outputs": [],
   "source": []
  },
  {
   "cell_type": "code",
   "execution_count": 19,
   "metadata": {},
   "outputs": [],
   "source": [
    "# using a tag name to get data inside it"
   ]
  },
  {
   "cell_type": "code",
   "execution_count": 14,
   "metadata": {},
   "outputs": [],
   "source": [
    "title_tag = data.select('title')"
   ]
  },
  {
   "cell_type": "code",
   "execution_count": 16,
   "metadata": {},
   "outputs": [
    {
     "data": {
      "text/plain": [
       "<title>Example Domain</title>"
      ]
     },
     "execution_count": 16,
     "metadata": {},
     "output_type": "execute_result"
    }
   ],
   "source": [
    "title_tag[0]"
   ]
  },
  {
   "cell_type": "code",
   "execution_count": null,
   "metadata": {},
   "outputs": [],
   "source": []
  },
  {
   "cell_type": "code",
   "execution_count": 17,
   "metadata": {},
   "outputs": [
    {
     "data": {
      "text/plain": [
       "bs4.element.Tag"
      ]
     },
     "execution_count": 17,
     "metadata": {},
     "output_type": "execute_result"
    }
   ],
   "source": [
    "type(title_tag[0])"
   ]
  },
  {
   "cell_type": "code",
   "execution_count": null,
   "metadata": {},
   "outputs": [],
   "source": []
  },
  {
   "cell_type": "code",
   "execution_count": null,
   "metadata": {},
   "outputs": [],
   "source": []
  },
  {
   "cell_type": "code",
   "execution_count": 18,
   "metadata": {},
   "outputs": [
    {
     "data": {
      "text/plain": [
       "'Example Domain'"
      ]
     },
     "execution_count": 18,
     "metadata": {},
     "output_type": "execute_result"
    }
   ],
   "source": [
    "title_tag[0].getText()"
   ]
  },
  {
   "cell_type": "code",
   "execution_count": null,
   "metadata": {},
   "outputs": [],
   "source": []
  },
  {
   "cell_type": "code",
   "execution_count": null,
   "metadata": {},
   "outputs": [],
   "source": []
  },
  {
   "cell_type": "code",
   "execution_count": null,
   "metadata": {},
   "outputs": [],
   "source": []
  },
  {
   "cell_type": "code",
   "execution_count": null,
   "metadata": {},
   "outputs": [],
   "source": []
  },
  {
   "cell_type": "code",
   "execution_count": 20,
   "metadata": {},
   "outputs": [],
   "source": [
    "# grabbing all elements of a class"
   ]
  },
  {
   "cell_type": "code",
   "execution_count": 21,
   "metadata": {},
   "outputs": [],
   "source": [
    "res = requests.get(\"https://en.wikipedia.org/wiki/Eminem\")"
   ]
  },
  {
   "cell_type": "code",
   "execution_count": 23,
   "metadata": {},
   "outputs": [],
   "source": [
    "data = bs4.BeautifulSoup(res.text, 'lxml')"
   ]
  },
  {
   "cell_type": "code",
   "execution_count": 24,
   "metadata": {},
   "outputs": [
    {
     "data": {
      "text/plain": [
       "[<span class=\"toctext\">Early life</span>,\n",
       " <span class=\"toctext\">Career</span>,\n",
       " <span class=\"toctext\">1988–1997: Early career, <i>Infinite</i> and family struggles</span>,\n",
       " <span class=\"toctext\">1997–1999: Introduction of Slim Shady, <i>The Slim Shady LP</i> and rise to success</span>,\n",
       " <span class=\"toctext\">1999–2003: <i>The Marshall Mathers LP</i> and <i>The Eminem Show</i></span>,\n",
       " <span class=\"toctext\">2003–2007: Production work, <i>Encore</i> and musical hiatus</span>,\n",
       " <span class=\"toctext\">2007–2009: Comeback and <i>Relapse</i></span>,\n",
       " <span class=\"toctext\">2009–2011: <i>Recovery</i> and Bad Meets Evil reunion</span>,\n",
       " <span class=\"toctext\">2012–2014: <i>The Marshall Mathers LP 2</i></span>,\n",
       " <span class=\"toctext\">2014–2016: <i>Shady XV</i> and <i>Southpaw</i></span>,\n",
       " <span class=\"toctext\">2017–2019: <i>Revival</i> and <i>Kamikaze</i></span>,\n",
       " <span class=\"toctext\">2020–present: <i>Music to Be Murdered By</i>, Super Bowl LVI, and <i>Curtain Call 2</i></span>,\n",
       " <span class=\"toctext\">Artistry</span>,\n",
       " <span class=\"toctext\">Influences, style and rapping technique</span>,\n",
       " <span class=\"toctext\">Alter egos</span>,\n",
       " <span class=\"toctext\">Collaborations and productions</span>,\n",
       " <span class=\"toctext\">Comparisons with other artists</span>,\n",
       " <span class=\"toctext\">Other ventures</span>,\n",
       " <span class=\"toctext\">Shady Records</span>,\n",
       " <span class=\"toctext\">Shade 45</span>,\n",
       " <span class=\"toctext\">Mom's Spaghetti Restaurant</span>,\n",
       " <span class=\"toctext\">Acting career</span>,\n",
       " <span class=\"toctext\">Charity work</span>,\n",
       " <span class=\"toctext\">Advertising</span>,\n",
       " <span class=\"toctext\">Books and memoirs</span>,\n",
       " <span class=\"toctext\">Personal life</span>,\n",
       " <span class=\"toctext\">Family</span>,\n",
       " <span class=\"toctext\">Health problems</span>,\n",
       " <span class=\"toctext\">2007 overdose</span>,\n",
       " <span class=\"toctext\">2020 home invasion</span>,\n",
       " <span class=\"toctext\">Politics</span>,\n",
       " <span class=\"toctext\">Feuds</span>,\n",
       " <span class=\"toctext\">Insane Clown Posse</span>,\n",
       " <span class=\"toctext\">Everlast and Limp Bizkit</span>,\n",
       " <span class=\"toctext\">Canibus</span>,\n",
       " <span class=\"toctext\">Michael Jackson</span>,\n",
       " <span class=\"toctext\">Ja Rule</span>,\n",
       " <span class=\"toctext\">Benzino and <i>The Source</i> Magazine</span>,\n",
       " <span class=\"toctext\">Mariah Carey and Nick Cannon</span>,\n",
       " <span class=\"toctext\">Moby</span>,\n",
       " <span class=\"toctext\">From <i>Kamikaze</i></span>,\n",
       " <span class=\"toctext\">Controversies</span>,\n",
       " <span class=\"toctext\">Legal issues</span>,\n",
       " <span class=\"toctext\">United States Secret Service</span>,\n",
       " <span class=\"toctext\">Allegations of homophobia</span>,\n",
       " <span class=\"toctext\">Legacy</span>,\n",
       " <span class=\"toctext\">Achievements and honors</span>,\n",
       " <span class=\"toctext\">Discography</span>,\n",
       " <span class=\"toctext\">Concert tours</span>,\n",
       " <span class=\"toctext\">Bibliography</span>,\n",
       " <span class=\"toctext\">See also</span>,\n",
       " <span class=\"toctext\">References</span>,\n",
       " <span class=\"toctext\">Further reading</span>,\n",
       " <span class=\"toctext\">External links</span>]"
      ]
     },
     "execution_count": 24,
     "metadata": {},
     "output_type": "execute_result"
    }
   ],
   "source": [
    "data.select(\".toctext\")"
   ]
  },
  {
   "cell_type": "code",
   "execution_count": null,
   "metadata": {},
   "outputs": [],
   "source": []
  },
  {
   "cell_type": "code",
   "execution_count": 25,
   "metadata": {},
   "outputs": [
    {
     "name": "stdout",
     "output_type": "stream",
     "text": [
      "Early life\n",
      "Career\n",
      "1988–1997: Early career, Infinite and family struggles\n",
      "1997–1999: Introduction of Slim Shady, The Slim Shady LP and rise to success\n",
      "1999–2003: The Marshall Mathers LP and The Eminem Show\n",
      "2003–2007: Production work, Encore and musical hiatus\n",
      "2007–2009: Comeback and Relapse\n",
      "2009–2011: Recovery and Bad Meets Evil reunion\n",
      "2012–2014: The Marshall Mathers LP 2\n",
      "2014–2016: Shady XV and Southpaw\n",
      "2017–2019: Revival and Kamikaze\n",
      "2020–present: Music to Be Murdered By, Super Bowl LVI, and Curtain Call 2\n",
      "Artistry\n",
      "Influences, style and rapping technique\n",
      "Alter egos\n",
      "Collaborations and productions\n",
      "Comparisons with other artists\n",
      "Other ventures\n",
      "Shady Records\n",
      "Shade 45\n",
      "Mom's Spaghetti Restaurant\n",
      "Acting career\n",
      "Charity work\n",
      "Advertising\n",
      "Books and memoirs\n",
      "Personal life\n",
      "Family\n",
      "Health problems\n",
      "2007 overdose\n",
      "2020 home invasion\n",
      "Politics\n",
      "Feuds\n",
      "Insane Clown Posse\n",
      "Everlast and Limp Bizkit\n",
      "Canibus\n",
      "Michael Jackson\n",
      "Ja Rule\n",
      "Benzino and The Source Magazine\n",
      "Mariah Carey and Nick Cannon\n",
      "Moby\n",
      "From Kamikaze\n",
      "Controversies\n",
      "Legal issues\n",
      "United States Secret Service\n",
      "Allegations of homophobia\n",
      "Legacy\n",
      "Achievements and honors\n",
      "Discography\n",
      "Concert tours\n",
      "Bibliography\n",
      "See also\n",
      "References\n",
      "Further reading\n",
      "External links\n"
     ]
    }
   ],
   "source": [
    "for item in data.select(\".toctext\"):\n",
    "    print(item.text)"
   ]
  },
  {
   "cell_type": "code",
   "execution_count": null,
   "metadata": {},
   "outputs": [],
   "source": []
  },
  {
   "cell_type": "code",
   "execution_count": null,
   "metadata": {},
   "outputs": [],
   "source": []
  },
  {
   "cell_type": "code",
   "execution_count": 26,
   "metadata": {},
   "outputs": [],
   "source": [
    "# getting an image from a website"
   ]
  },
  {
   "cell_type": "code",
   "execution_count": 27,
   "metadata": {},
   "outputs": [],
   "source": [
    "res = requests.get(\"https://en.wikipedia.org/wiki/Computer\")"
   ]
  },
  {
   "cell_type": "code",
   "execution_count": 28,
   "metadata": {},
   "outputs": [],
   "source": [
    "data = bs4.BeautifulSoup(res.text,\"lxml\")"
   ]
  },
  {
   "cell_type": "code",
   "execution_count": 29,
   "metadata": {},
   "outputs": [
    {
     "data": {
      "text/plain": [
       "[<div class=\"thumbimage\" style=\"height:106px;overflow:hidden\"><a class=\"image\" href=\"/wiki/File:Babbage_Difference_Engine_(Setting_the_input_parameters).jpg\"><img alt=\"setting the input parameters\" data-file-height=\"2912\" data-file-width=\"3428\" decoding=\"async\" height=\"106\" src=\"//upload.wikimedia.org/wikipedia/commons/thumb/1/16/Babbage_Difference_Engine_%28Setting_the_input_parameters%29.jpg/125px-Babbage_Difference_Engine_%28Setting_the_input_parameters%29.jpg\" srcset=\"//upload.wikimedia.org/wikipedia/commons/thumb/1/16/Babbage_Difference_Engine_%28Setting_the_input_parameters%29.jpg/188px-Babbage_Difference_Engine_%28Setting_the_input_parameters%29.jpg 1.5x, //upload.wikimedia.org/wikipedia/commons/thumb/1/16/Babbage_Difference_Engine_%28Setting_the_input_parameters%29.jpg/250px-Babbage_Difference_Engine_%28Setting_the_input_parameters%29.jpg 2x\" width=\"125\"/></a></div>,\n",
       " <div class=\"thumbimage\" style=\"height:106px;overflow:hidden\"><a class=\"image\" href=\"/wiki/File:Colossus.jpg\"><img alt=\"A Colossus Mark 2 computer being operated by Dorothy Du Boisson (left) and Elsie Booker (right), 1943\" data-file-height=\"2337\" data-file-width=\"3504\" decoding=\"async\" height=\"106\" src=\"//upload.wikimedia.org/wikipedia/commons/thumb/4/4b/Colossus.jpg/159px-Colossus.jpg\" srcset=\"//upload.wikimedia.org/wikipedia/commons/thumb/4/4b/Colossus.jpg/239px-Colossus.jpg 1.5x, //upload.wikimedia.org/wikipedia/commons/thumb/4/4b/Colossus.jpg/318px-Colossus.jpg 2x\" width=\"159\"/></a></div>,\n",
       " <div class=\"thumbimage\" style=\"height:115px;overflow:hidden\"><a class=\"image\" href=\"/wiki/File:ENIAC-changing_a_tube.jpg\"><img alt=\"Man replacing one vacuum tube out of hundreds in early computer\" data-file-height=\"1024\" data-file-width=\"1239\" decoding=\"async\" height=\"116\" src=\"//upload.wikimedia.org/wikipedia/commons/thumb/e/e5/ENIAC-changing_a_tube.jpg/140px-ENIAC-changing_a_tube.jpg\" srcset=\"//upload.wikimedia.org/wikipedia/commons/thumb/e/e5/ENIAC-changing_a_tube.jpg/210px-ENIAC-changing_a_tube.jpg 1.5x, //upload.wikimedia.org/wikipedia/commons/thumb/e/e5/ENIAC-changing_a_tube.jpg/280px-ENIAC-changing_a_tube.jpg 2x\" width=\"140\"/></a></div>,\n",
       " <div class=\"thumbimage\" style=\"height:115px;overflow:hidden\"><a class=\"image\" href=\"/wiki/File:Summit_(supercomputer).jpg\"><img alt=\"Rows of large, dark computer cabinets in warehouse-like room\" data-file-height=\"2828\" data-file-width=\"3535\" decoding=\"async\" height=\"115\" src=\"//upload.wikimedia.org/wikipedia/commons/thumb/b/b4/Summit_%28supercomputer%29.jpg/144px-Summit_%28supercomputer%29.jpg\" srcset=\"//upload.wikimedia.org/wikipedia/commons/thumb/b/b4/Summit_%28supercomputer%29.jpg/216px-Summit_%28supercomputer%29.jpg 1.5x, //upload.wikimedia.org/wikipedia/commons/thumb/b/b4/Summit_%28supercomputer%29.jpg/288px-Summit_%28supercomputer%29.jpg 2x\" width=\"144\"/></a></div>,\n",
       " <div class=\"thumbimage\" style=\"height:162px;overflow:hidden\"><a class=\"image\" href=\"/wiki/File:Gamecube-console.jpg\"><img alt=\"Purple video game console with attached controller\" data-file-height=\"1800\" data-file-width=\"1800\" decoding=\"async\" height=\"162\" src=\"//upload.wikimedia.org/wikipedia/commons/thumb/a/ae/Gamecube-console.jpg/162px-Gamecube-console.jpg\" srcset=\"//upload.wikimedia.org/wikipedia/commons/thumb/a/ae/Gamecube-console.jpg/243px-Gamecube-console.jpg 1.5x, //upload.wikimedia.org/wikipedia/commons/thumb/a/ae/Gamecube-console.jpg/324px-Gamecube-console.jpg 2x\" width=\"162\"/></a></div>,\n",
       " <div class=\"thumbimage\" style=\"height:162px;overflow:hidden\"><a class=\"image\" href=\"/wiki/File:LYF_WATER_2_Smartphone.JPG\"><img alt=\"Smartphone with rainbow-like display held in a hand\" data-file-height=\"320\" data-file-width=\"240\" decoding=\"async\" height=\"163\" src=\"//upload.wikimedia.org/wikipedia/commons/thumb/e/ef/LYF_WATER_2_Smartphone.JPG/122px-LYF_WATER_2_Smartphone.JPG\" srcset=\"//upload.wikimedia.org/wikipedia/commons/thumb/e/ef/LYF_WATER_2_Smartphone.JPG/183px-LYF_WATER_2_Smartphone.JPG 1.5x, //upload.wikimedia.org/wikipedia/commons/e/ef/LYF_WATER_2_Smartphone.JPG 2x\" width=\"122\"/></a></div>,\n",
       " <img alt=\"A human computer.\" class=\"thumbimage\" data-file-height=\"2400\" data-file-width=\"3000\" decoding=\"async\" height=\"200\" src=\"//upload.wikimedia.org/wikipedia/commons/thumb/b/be/X-4_with_Female_Computer_-_GPN-2000-001932.jpg/250px-X-4_with_Female_Computer_-_GPN-2000-001932.jpg\" srcset=\"//upload.wikimedia.org/wikipedia/commons/thumb/b/be/X-4_with_Female_Computer_-_GPN-2000-001932.jpg/375px-X-4_with_Female_Computer_-_GPN-2000-001932.jpg 1.5x, //upload.wikimedia.org/wikipedia/commons/thumb/b/be/X-4_with_Female_Computer_-_GPN-2000-001932.jpg/500px-X-4_with_Female_Computer_-_GPN-2000-001932.jpg 2x\" width=\"250\"/>,\n",
       " <img alt=\"\" class=\"thumbimage\" data-file-height=\"2274\" data-file-width=\"1404\" decoding=\"async\" height=\"227\" src=\"//upload.wikimedia.org/wikipedia/commons/thumb/4/42/Os_d%27Ishango_IRSNB.JPG/140px-Os_d%27Ishango_IRSNB.JPG\" srcset=\"//upload.wikimedia.org/wikipedia/commons/thumb/4/42/Os_d%27Ishango_IRSNB.JPG/210px-Os_d%27Ishango_IRSNB.JPG 1.5x, //upload.wikimedia.org/wikipedia/commons/thumb/4/42/Os_d%27Ishango_IRSNB.JPG/280px-Os_d%27Ishango_IRSNB.JPG 2x\" width=\"140\"/>,\n",
       " <img alt=\"\" class=\"thumbimage\" data-file-height=\"145\" data-file-width=\"247\" decoding=\"async\" height=\"145\" src=\"//upload.wikimedia.org/wikipedia/commons/a/af/Abacus_6.png\" width=\"247\"/>,\n",
       " <img alt=\"\" class=\"thumbimage\" data-file-height=\"924\" data-file-width=\"1036\" decoding=\"async\" height=\"161\" src=\"//upload.wikimedia.org/wikipedia/commons/thumb/6/66/NAMA_Machine_d%27Anticyth%C3%A8re_1.jpg/180px-NAMA_Machine_d%27Anticyth%C3%A8re_1.jpg\" srcset=\"//upload.wikimedia.org/wikipedia/commons/thumb/6/66/NAMA_Machine_d%27Anticyth%C3%A8re_1.jpg/270px-NAMA_Machine_d%27Anticyth%C3%A8re_1.jpg 1.5x, //upload.wikimedia.org/wikipedia/commons/thumb/6/66/NAMA_Machine_d%27Anticyth%C3%A8re_1.jpg/360px-NAMA_Machine_d%27Anticyth%C3%A8re_1.jpg 2x\" width=\"180\"/>,\n",
       " <img alt=\"\" class=\"thumbimage\" data-file-height=\"462\" data-file-width=\"1600\" decoding=\"async\" height=\"72\" src=\"//upload.wikimedia.org/wikipedia/commons/thumb/1/17/Sliderule_2005.png/250px-Sliderule_2005.png\" srcset=\"//upload.wikimedia.org/wikipedia/commons/thumb/1/17/Sliderule_2005.png/375px-Sliderule_2005.png 1.5x, //upload.wikimedia.org/wikipedia/commons/thumb/1/17/Sliderule_2005.png/500px-Sliderule_2005.png 2x\" width=\"250\"/>,\n",
       " <img alt=\"\" class=\"thumbimage\" data-file-height=\"725\" data-file-width=\"549\" decoding=\"async\" height=\"291\" src=\"//upload.wikimedia.org/wikipedia/commons/thumb/9/9e/Difference_engine_plate_1853.jpg/220px-Difference_engine_plate_1853.jpg\" srcset=\"//upload.wikimedia.org/wikipedia/commons/thumb/9/9e/Difference_engine_plate_1853.jpg/330px-Difference_engine_plate_1853.jpg 1.5x, //upload.wikimedia.org/wikipedia/commons/thumb/9/9e/Difference_engine_plate_1853.jpg/440px-Difference_engine_plate_1853.jpg 2x\" width=\"220\"/>,\n",
       " <img alt=\"\" class=\"thumbimage\" data-file-height=\"3793\" data-file-width=\"3921\" decoding=\"async\" height=\"193\" src=\"//upload.wikimedia.org/wikipedia/commons/thumb/a/aa/099-tpm3-sk.jpg/200px-099-tpm3-sk.jpg\" srcset=\"//upload.wikimedia.org/wikipedia/commons/thumb/a/aa/099-tpm3-sk.jpg/300px-099-tpm3-sk.jpg 1.5x, //upload.wikimedia.org/wikipedia/commons/thumb/a/aa/099-tpm3-sk.jpg/400px-099-tpm3-sk.jpg 2x\" width=\"200\"/>,\n",
       " <img alt=\"\" class=\"thumbimage\" data-file-height=\"1200\" data-file-width=\"1600\" decoding=\"async\" height=\"150\" src=\"//upload.wikimedia.org/wikipedia/commons/thumb/4/4c/Z3_Deutsches_Museum.JPG/200px-Z3_Deutsches_Museum.JPG\" srcset=\"//upload.wikimedia.org/wikipedia/commons/thumb/4/4c/Z3_Deutsches_Museum.JPG/300px-Z3_Deutsches_Museum.JPG 1.5x, //upload.wikimedia.org/wikipedia/commons/thumb/4/4c/Z3_Deutsches_Museum.JPG/400px-Z3_Deutsches_Museum.JPG 2x\" width=\"200\"/>,\n",
       " <img alt=\"Two women are seen by the Colossus computer.\" class=\"thumbimage\" data-file-height=\"2337\" data-file-width=\"3504\" decoding=\"async\" height=\"167\" src=\"//upload.wikimedia.org/wikipedia/commons/thumb/4/4b/Colossus.jpg/250px-Colossus.jpg\" srcset=\"//upload.wikimedia.org/wikipedia/commons/thumb/4/4b/Colossus.jpg/375px-Colossus.jpg 1.5x, //upload.wikimedia.org/wikipedia/commons/thumb/4/4b/Colossus.jpg/500px-Colossus.jpg 2x\" width=\"250\"/>,\n",
       " <img alt=\"\" class=\"thumbimage\" data-file-height=\"1024\" data-file-width=\"1340\" decoding=\"async\" height=\"191\" src=\"//upload.wikimedia.org/wikipedia/commons/thumb/4/4e/Eniac.jpg/250px-Eniac.jpg\" srcset=\"//upload.wikimedia.org/wikipedia/commons/thumb/4/4e/Eniac.jpg/375px-Eniac.jpg 1.5x, //upload.wikimedia.org/wikipedia/commons/thumb/4/4e/Eniac.jpg/500px-Eniac.jpg 2x\" width=\"250\"/>,\n",
       " <img alt=\"Three tall racks containing electronic circuit boards\" class=\"thumbimage\" data-file-height=\"2286\" data-file-width=\"3430\" decoding=\"async\" height=\"167\" src=\"//upload.wikimedia.org/wikipedia/commons/thumb/2/21/SSEM_Manchester_museum_close_up.jpg/250px-SSEM_Manchester_museum_close_up.jpg\" srcset=\"//upload.wikimedia.org/wikipedia/commons/thumb/2/21/SSEM_Manchester_museum_close_up.jpg/375px-SSEM_Manchester_museum_close_up.jpg 1.5x, //upload.wikimedia.org/wikipedia/commons/thumb/2/21/SSEM_Manchester_museum_close_up.jpg/500px-SSEM_Manchester_museum_close_up.jpg 2x\" width=\"250\"/>,\n",
       " <img alt=\"\" class=\"thumbimage\" data-file-height=\"768\" data-file-width=\"1024\" decoding=\"async\" height=\"165\" src=\"//upload.wikimedia.org/wikipedia/commons/thumb/e/e2/Transistor-die-KSY34.jpg/220px-Transistor-die-KSY34.jpg\" srcset=\"//upload.wikimedia.org/wikipedia/commons/thumb/e/e2/Transistor-die-KSY34.jpg/330px-Transistor-die-KSY34.jpg 1.5x, //upload.wikimedia.org/wikipedia/commons/thumb/e/e2/Transistor-die-KSY34.jpg/440px-Transistor-die-KSY34.jpg 2x\" width=\"220\"/>,\n",
       " <img alt=\"\" class=\"thumbimage\" data-file-height=\"408\" data-file-width=\"613\" decoding=\"async\" height=\"146\" src=\"//upload.wikimedia.org/wikipedia/commons/thumb/a/a5/MOSFET_Structure.png/220px-MOSFET_Structure.png\" srcset=\"//upload.wikimedia.org/wikipedia/commons/thumb/a/a5/MOSFET_Structure.png/330px-MOSFET_Structure.png 1.5x, //upload.wikimedia.org/wikipedia/commons/thumb/a/a5/MOSFET_Structure.png/440px-MOSFET_Structure.png 2x\" width=\"220\"/>,\n",
       " <div class=\"thumbimage\" style=\"height:214px;overflow:hidden\"><a class=\"image\" href=\"/wiki/File:MOS_6502_die.jpg\"><img alt=\"MOS 6502 computer chip die photograph\" data-file-height=\"2998\" data-file-width=\"2696\" decoding=\"async\" height=\"215\" src=\"//upload.wikimedia.org/wikipedia/commons/thumb/8/8b/MOS_6502_die.jpg/193px-MOS_6502_die.jpg\" srcset=\"//upload.wikimedia.org/wikipedia/commons/thumb/8/8b/MOS_6502_die.jpg/290px-MOS_6502_die.jpg 1.5x, //upload.wikimedia.org/wikipedia/commons/thumb/8/8b/MOS_6502_die.jpg/386px-MOS_6502_die.jpg 2x\" width=\"193\"/></a></div>,\n",
       " <div class=\"thumbimage\" style=\"height:214px;overflow:hidden\"><a class=\"image\" href=\"/wiki/File:MOS_6502A.jpg\"><img alt=\"MOS 6502 computer chip in 'DIP' package\" data-file-height=\"590\" data-file-width=\"800\" decoding=\"async\" height=\"215\" src=\"//upload.wikimedia.org/wikipedia/commons/thumb/0/0c/MOS_6502A.jpg/291px-MOS_6502A.jpg\" srcset=\"//upload.wikimedia.org/wikipedia/commons/thumb/0/0c/MOS_6502A.jpg/437px-MOS_6502A.jpg 1.5x, //upload.wikimedia.org/wikipedia/commons/thumb/0/0c/MOS_6502A.jpg/582px-MOS_6502A.jpg 2x\" width=\"291\"/></a></div>,\n",
       " <video class=\"thumbimage\" controls=\"\" data-durationhint=\"115\" data-mwprovider=\"wikimediacommons\" data-mwtitle=\"Computer_Components.webm\" height=\"147\" id=\"mwe_player_0\" poster=\"//upload.wikimedia.org/wikipedia/commons/thumb/d/dc/Computer_Components.webm/220px--Computer_Components.webm.jpg\" preload=\"none\" width=\"220\"><source data-bandwidth=\"498392\" data-framerate=\"29.97\" data-height=\"480\" data-shorttitle=\"VP9 480P\" data-title=\"SD VP9 (480P)\" data-transcodekey=\"480p.vp9.webm\" data-width=\"720\" src=\"//upload.wikimedia.org/wikipedia/commons/transcoded/d/dc/Computer_Components.webm/Computer_Components.webm.480p.vp9.webm\" type='video/webm; codecs=\"vp9, opus\"'/><source data-bandwidth=\"1023184\" data-framerate=\"29.97\" data-height=\"480\" data-shorttitle=\"WebM 480P\" data-title=\"SD WebM (480P)\" data-transcodekey=\"480p.webm\" data-width=\"720\" src=\"//upload.wikimedia.org/wikipedia/commons/transcoded/d/dc/Computer_Components.webm/Computer_Components.webm.480p.webm\" type='video/webm; codecs=\"vp8, vorbis\"'/><source data-bandwidth=\"1417457\" data-framerate=\"29.97\" data-height=\"480\" data-shorttitle=\"WebM source\" data-title=\"Original WebM file, 720 × 480 (1.42 Mbps)\" data-width=\"720\" src=\"//upload.wikimedia.org/wikipedia/commons/d/dc/Computer_Components.webm\" type='video/webm; codecs=\"vp8, vorbis\"'/><source data-bandwidth=\"85296\" data-framerate=\"29.97\" data-height=\"120\" data-shorttitle=\"VP9 120P\" data-title=\"Lowest bandwidth VP9 (120P)\" data-transcodekey=\"120p.vp9.webm\" data-width=\"180\" src=\"//upload.wikimedia.org/wikipedia/commons/transcoded/d/dc/Computer_Components.webm/Computer_Components.webm.120p.vp9.webm\" type='video/webm; codecs=\"vp9, opus\"'/><source data-bandwidth=\"131696\" data-framerate=\"29.97\" data-height=\"160\" data-shorttitle=\"WebM 160P\" data-title=\"Low bandwidth WebM (160P)\" data-transcodekey=\"160p.webm\" data-width=\"240\" src=\"//upload.wikimedia.org/wikipedia/commons/transcoded/d/dc/Computer_Components.webm/Computer_Components.webm.160p.webm\" type='video/webm; codecs=\"vp8, vorbis\"'/><source data-bandwidth=\"138864\" data-framerate=\"29.97\" data-height=\"180\" data-shorttitle=\"VP9 180P\" data-title=\"Low bandwidth VP9 (180P)\" data-transcodekey=\"180p.vp9.webm\" data-width=\"270\" src=\"//upload.wikimedia.org/wikipedia/commons/transcoded/d/dc/Computer_Components.webm/Computer_Components.webm.180p.vp9.webm\" type='video/webm; codecs=\"vp9, opus\"'/><source data-bandwidth=\"177896\" data-framerate=\"29.97\" data-height=\"240\" data-shorttitle=\"VP9 240P\" data-title=\"Small VP9 (240P)\" data-transcodekey=\"240p.vp9.webm\" data-width=\"360\" src=\"//upload.wikimedia.org/wikipedia/commons/transcoded/d/dc/Computer_Components.webm/Computer_Components.webm.240p.vp9.webm\" type='video/webm; codecs=\"vp9, opus\"'/><source data-bandwidth=\"258600\" data-framerate=\"29.97\" data-height=\"240\" data-shorttitle=\"WebM 240P\" data-title=\"Small WebM (240P)\" data-transcodekey=\"240p.webm\" data-width=\"360\" src=\"//upload.wikimedia.org/wikipedia/commons/transcoded/d/dc/Computer_Components.webm/Computer_Components.webm.240p.webm\" type='video/webm; codecs=\"vp8, vorbis\"'/><source data-bandwidth=\"291232\" data-framerate=\"29.97\" data-height=\"360\" data-shorttitle=\"VP9 360P\" data-title=\"VP9 (360P)\" data-transcodekey=\"360p.vp9.webm\" data-width=\"540\" src=\"//upload.wikimedia.org/wikipedia/commons/transcoded/d/dc/Computer_Components.webm/Computer_Components.webm.360p.vp9.webm\" type='video/webm; codecs=\"vp9, opus\"'/><source data-bandwidth=\"513696\" data-framerate=\"29.97\" data-height=\"360\" data-shorttitle=\"WebM 360P\" data-title=\"WebM (360P)\" data-transcodekey=\"360p.webm\" data-width=\"540\" src=\"//upload.wikimedia.org/wikipedia/commons/transcoded/d/dc/Computer_Components.webm/Computer_Components.webm.360p.webm\" type='video/webm; codecs=\"vp8, vorbis\"'/></video>,\n",
       " <img alt=\"\" class=\"thumbimage\" data-file-height=\"180\" data-file-width=\"500\" decoding=\"async\" height=\"119\" src=\"//upload.wikimedia.org/wikipedia/commons/thumb/2/2a/Mips32_addi.svg/330px-Mips32_addi.svg.png\" srcset=\"//upload.wikimedia.org/wikipedia/commons/thumb/2/2a/Mips32_addi.svg/495px-Mips32_addi.svg.png 1.5x, //upload.wikimedia.org/wikipedia/commons/thumb/2/2a/Mips32_addi.svg/660px-Mips32_addi.svg.png 2x\" width=\"330\"/>,\n",
       " <img alt=\"\" class=\"thumbimage\" data-file-height=\"960\" data-file-width=\"1280\" decoding=\"async\" height=\"165\" src=\"//upload.wikimedia.org/wikipedia/commons/thumb/5/51/Magnetic_core.jpg/220px-Magnetic_core.jpg\" srcset=\"//upload.wikimedia.org/wikipedia/commons/thumb/5/51/Magnetic_core.jpg/330px-Magnetic_core.jpg 1.5x, //upload.wikimedia.org/wikipedia/commons/thumb/5/51/Magnetic_core.jpg/440px-Magnetic_core.jpg 2x\" width=\"220\"/>,\n",
       " <img alt=\"\" class=\"thumbimage\" data-file-height=\"2304\" data-file-width=\"3456\" decoding=\"async\" height=\"147\" src=\"//upload.wikimedia.org/wikipedia/commons/thumb/0/00/HDDspin.JPG/220px-HDDspin.JPG\" srcset=\"//upload.wikimedia.org/wikipedia/commons/thumb/0/00/HDDspin.JPG/330px-HDDspin.JPG 1.5x, //upload.wikimedia.org/wikipedia/commons/thumb/0/00/HDDspin.JPG/440px-HDDspin.JPG 2x\" width=\"220\"/>,\n",
       " <img alt=\"\" class=\"thumbimage\" data-file-height=\"1944\" data-file-width=\"2592\" decoding=\"async\" height=\"188\" src=\"//upload.wikimedia.org/wikipedia/commons/thumb/a/a2/Cray_2_Arts_et_Metiers_dsc03940.jpg/250px-Cray_2_Arts_et_Metiers_dsc03940.jpg\" srcset=\"//upload.wikimedia.org/wikipedia/commons/thumb/a/a2/Cray_2_Arts_et_Metiers_dsc03940.jpg/375px-Cray_2_Arts_et_Metiers_dsc03940.jpg 1.5x, //upload.wikimedia.org/wikipedia/commons/thumb/a/a2/Cray_2_Arts_et_Metiers_dsc03940.jpg/500px-Cray_2_Arts_et_Metiers_dsc03940.jpg 2x\" width=\"250\"/>,\n",
       " <img alt=\"\" class=\"thumbimage\" data-file-height=\"2296\" data-file-width=\"3477\" decoding=\"async\" height=\"145\" src=\"//upload.wikimedia.org/wikipedia/commons/thumb/b/bb/SSEM_Manchester_museum.jpg/220px-SSEM_Manchester_museum.jpg\" srcset=\"//upload.wikimedia.org/wikipedia/commons/thumb/b/bb/SSEM_Manchester_museum.jpg/330px-SSEM_Manchester_museum.jpg 1.5x, //upload.wikimedia.org/wikipedia/commons/thumb/b/bb/SSEM_Manchester_museum.jpg/440px-SSEM_Manchester_museum.jpg 2x\" width=\"220\"/>,\n",
       " <img alt=\"\" class=\"thumbimage\" data-file-height=\"809\" data-file-width=\"1687\" decoding=\"async\" height=\"106\" src=\"//upload.wikimedia.org/wikipedia/commons/thumb/5/58/FortranCardPROJ039.agr.jpg/220px-FortranCardPROJ039.agr.jpg\" srcset=\"//upload.wikimedia.org/wikipedia/commons/thumb/5/58/FortranCardPROJ039.agr.jpg/330px-FortranCardPROJ039.agr.jpg 1.5x, //upload.wikimedia.org/wikipedia/commons/thumb/5/58/FortranCardPROJ039.agr.jpg/440px-FortranCardPROJ039.agr.jpg 2x\" width=\"220\"/>,\n",
       " <img alt=\"\" class=\"thumbimage\" data-file-height=\"2285\" data-file-width=\"2889\" decoding=\"async\" height=\"174\" src=\"//upload.wikimedia.org/wikipedia/commons/thumb/f/ff/First_Computer_Bug%2C_1945.jpg/220px-First_Computer_Bug%2C_1945.jpg\" srcset=\"//upload.wikimedia.org/wikipedia/commons/thumb/f/ff/First_Computer_Bug%2C_1945.jpg/330px-First_Computer_Bug%2C_1945.jpg 1.5x, //upload.wikimedia.org/wikipedia/commons/thumb/f/ff/First_Computer_Bug%2C_1945.jpg/440px-First_Computer_Bug%2C_1945.jpg 2x\" width=\"220\"/>,\n",
       " <img alt=\"\" class=\"thumbimage\" data-file-height=\"1280\" data-file-width=\"1280\" decoding=\"async\" height=\"220\" src=\"//upload.wikimedia.org/wikipedia/commons/thumb/d/d2/Internet_map_1024.jpg/220px-Internet_map_1024.jpg\" srcset=\"//upload.wikimedia.org/wikipedia/commons/thumb/d/d2/Internet_map_1024.jpg/330px-Internet_map_1024.jpg 1.5x, //upload.wikimedia.org/wikipedia/commons/thumb/d/d2/Internet_map_1024.jpg/440px-Internet_map_1024.jpg 2x\" width=\"220\"/>]"
      ]
     },
     "execution_count": 29,
     "metadata": {},
     "output_type": "execute_result"
    }
   ],
   "source": [
    "data.select(\".thumbimage\")"
   ]
  },
  {
   "cell_type": "code",
   "execution_count": 45,
   "metadata": {},
   "outputs": [
    {
     "data": {
      "text/plain": [
       "30"
      ]
     },
     "execution_count": 45,
     "metadata": {},
     "output_type": "execute_result"
    }
   ],
   "source": [
    "len(data.select(\".thumbimage\"))"
   ]
  },
  {
   "cell_type": "code",
   "execution_count": 50,
   "metadata": {},
   "outputs": [
    {
     "name": "stdout",
     "output_type": "stream",
     "text": [
      "<div class=\"thumbimage\" style=\"height:106px;overflow:hidden\"><a class=\"image\" href=\"/wiki/File:Babbage_Difference_Engine_(Setting_the_input_parameters).jpg\"><img alt=\"setting the input parameters\" data-file-height=\"2912\" data-file-width=\"3428\" decoding=\"async\" height=\"106\" src=\"//upload.wikimedia.org/wikipedia/commons/thumb/1/16/Babbage_Difference_Engine_%28Setting_the_input_parameters%29.jpg/125px-Babbage_Difference_Engine_%28Setting_the_input_parameters%29.jpg\" srcset=\"//upload.wikimedia.org/wikipedia/commons/thumb/1/16/Babbage_Difference_Engine_%28Setting_the_input_parameters%29.jpg/188px-Babbage_Difference_Engine_%28Setting_the_input_parameters%29.jpg 1.5x, //upload.wikimedia.org/wikipedia/commons/thumb/1/16/Babbage_Difference_Engine_%28Setting_the_input_parameters%29.jpg/250px-Babbage_Difference_Engine_%28Setting_the_input_parameters%29.jpg 2x\" width=\"125\"/></a></div>  \n",
      "\n",
      "<div class=\"thumbimage\" style=\"height:106px;overflow:hidden\"><a class=\"image\" href=\"/wiki/File:Colossus.jpg\"><img alt=\"A Colossus Mark 2 computer being operated by Dorothy Du Boisson (left) and Elsie Booker (right), 1943\" data-file-height=\"2337\" data-file-width=\"3504\" decoding=\"async\" height=\"106\" src=\"//upload.wikimedia.org/wikipedia/commons/thumb/4/4b/Colossus.jpg/159px-Colossus.jpg\" srcset=\"//upload.wikimedia.org/wikipedia/commons/thumb/4/4b/Colossus.jpg/239px-Colossus.jpg 1.5x, //upload.wikimedia.org/wikipedia/commons/thumb/4/4b/Colossus.jpg/318px-Colossus.jpg 2x\" width=\"159\"/></a></div>  \n",
      "\n",
      "<div class=\"thumbimage\" style=\"height:115px;overflow:hidden\"><a class=\"image\" href=\"/wiki/File:ENIAC-changing_a_tube.jpg\"><img alt=\"Man replacing one vacuum tube out of hundreds in early computer\" data-file-height=\"1024\" data-file-width=\"1239\" decoding=\"async\" height=\"116\" src=\"//upload.wikimedia.org/wikipedia/commons/thumb/e/e5/ENIAC-changing_a_tube.jpg/140px-ENIAC-changing_a_tube.jpg\" srcset=\"//upload.wikimedia.org/wikipedia/commons/thumb/e/e5/ENIAC-changing_a_tube.jpg/210px-ENIAC-changing_a_tube.jpg 1.5x, //upload.wikimedia.org/wikipedia/commons/thumb/e/e5/ENIAC-changing_a_tube.jpg/280px-ENIAC-changing_a_tube.jpg 2x\" width=\"140\"/></a></div>  \n",
      "\n",
      "<div class=\"thumbimage\" style=\"height:115px;overflow:hidden\"><a class=\"image\" href=\"/wiki/File:Summit_(supercomputer).jpg\"><img alt=\"Rows of large, dark computer cabinets in warehouse-like room\" data-file-height=\"2828\" data-file-width=\"3535\" decoding=\"async\" height=\"115\" src=\"//upload.wikimedia.org/wikipedia/commons/thumb/b/b4/Summit_%28supercomputer%29.jpg/144px-Summit_%28supercomputer%29.jpg\" srcset=\"//upload.wikimedia.org/wikipedia/commons/thumb/b/b4/Summit_%28supercomputer%29.jpg/216px-Summit_%28supercomputer%29.jpg 1.5x, //upload.wikimedia.org/wikipedia/commons/thumb/b/b4/Summit_%28supercomputer%29.jpg/288px-Summit_%28supercomputer%29.jpg 2x\" width=\"144\"/></a></div>  \n",
      "\n",
      "<div class=\"thumbimage\" style=\"height:162px;overflow:hidden\"><a class=\"image\" href=\"/wiki/File:Gamecube-console.jpg\"><img alt=\"Purple video game console with attached controller\" data-file-height=\"1800\" data-file-width=\"1800\" decoding=\"async\" height=\"162\" src=\"//upload.wikimedia.org/wikipedia/commons/thumb/a/ae/Gamecube-console.jpg/162px-Gamecube-console.jpg\" srcset=\"//upload.wikimedia.org/wikipedia/commons/thumb/a/ae/Gamecube-console.jpg/243px-Gamecube-console.jpg 1.5x, //upload.wikimedia.org/wikipedia/commons/thumb/a/ae/Gamecube-console.jpg/324px-Gamecube-console.jpg 2x\" width=\"162\"/></a></div>  \n",
      "\n",
      "<div class=\"thumbimage\" style=\"height:162px;overflow:hidden\"><a class=\"image\" href=\"/wiki/File:LYF_WATER_2_Smartphone.JPG\"><img alt=\"Smartphone with rainbow-like display held in a hand\" data-file-height=\"320\" data-file-width=\"240\" decoding=\"async\" height=\"163\" src=\"//upload.wikimedia.org/wikipedia/commons/thumb/e/ef/LYF_WATER_2_Smartphone.JPG/122px-LYF_WATER_2_Smartphone.JPG\" srcset=\"//upload.wikimedia.org/wikipedia/commons/thumb/e/ef/LYF_WATER_2_Smartphone.JPG/183px-LYF_WATER_2_Smartphone.JPG 1.5x, //upload.wikimedia.org/wikipedia/commons/e/ef/LYF_WATER_2_Smartphone.JPG 2x\" width=\"122\"/></a></div>  \n",
      "\n",
      "<img alt=\"A human computer.\" class=\"thumbimage\" data-file-height=\"2400\" data-file-width=\"3000\" decoding=\"async\" height=\"200\" src=\"//upload.wikimedia.org/wikipedia/commons/thumb/b/be/X-4_with_Female_Computer_-_GPN-2000-001932.jpg/250px-X-4_with_Female_Computer_-_GPN-2000-001932.jpg\" srcset=\"//upload.wikimedia.org/wikipedia/commons/thumb/b/be/X-4_with_Female_Computer_-_GPN-2000-001932.jpg/375px-X-4_with_Female_Computer_-_GPN-2000-001932.jpg 1.5x, //upload.wikimedia.org/wikipedia/commons/thumb/b/be/X-4_with_Female_Computer_-_GPN-2000-001932.jpg/500px-X-4_with_Female_Computer_-_GPN-2000-001932.jpg 2x\" width=\"250\"/>  \n",
      "\n",
      "<img alt=\"\" class=\"thumbimage\" data-file-height=\"2274\" data-file-width=\"1404\" decoding=\"async\" height=\"227\" src=\"//upload.wikimedia.org/wikipedia/commons/thumb/4/42/Os_d%27Ishango_IRSNB.JPG/140px-Os_d%27Ishango_IRSNB.JPG\" srcset=\"//upload.wikimedia.org/wikipedia/commons/thumb/4/42/Os_d%27Ishango_IRSNB.JPG/210px-Os_d%27Ishango_IRSNB.JPG 1.5x, //upload.wikimedia.org/wikipedia/commons/thumb/4/42/Os_d%27Ishango_IRSNB.JPG/280px-Os_d%27Ishango_IRSNB.JPG 2x\" width=\"140\"/>  \n",
      "\n",
      "<img alt=\"\" class=\"thumbimage\" data-file-height=\"145\" data-file-width=\"247\" decoding=\"async\" height=\"145\" src=\"//upload.wikimedia.org/wikipedia/commons/a/af/Abacus_6.png\" width=\"247\"/>  \n",
      "\n",
      "<img alt=\"\" class=\"thumbimage\" data-file-height=\"924\" data-file-width=\"1036\" decoding=\"async\" height=\"161\" src=\"//upload.wikimedia.org/wikipedia/commons/thumb/6/66/NAMA_Machine_d%27Anticyth%C3%A8re_1.jpg/180px-NAMA_Machine_d%27Anticyth%C3%A8re_1.jpg\" srcset=\"//upload.wikimedia.org/wikipedia/commons/thumb/6/66/NAMA_Machine_d%27Anticyth%C3%A8re_1.jpg/270px-NAMA_Machine_d%27Anticyth%C3%A8re_1.jpg 1.5x, //upload.wikimedia.org/wikipedia/commons/thumb/6/66/NAMA_Machine_d%27Anticyth%C3%A8re_1.jpg/360px-NAMA_Machine_d%27Anticyth%C3%A8re_1.jpg 2x\" width=\"180\"/>  \n",
      "\n",
      "<img alt=\"\" class=\"thumbimage\" data-file-height=\"462\" data-file-width=\"1600\" decoding=\"async\" height=\"72\" src=\"//upload.wikimedia.org/wikipedia/commons/thumb/1/17/Sliderule_2005.png/250px-Sliderule_2005.png\" srcset=\"//upload.wikimedia.org/wikipedia/commons/thumb/1/17/Sliderule_2005.png/375px-Sliderule_2005.png 1.5x, //upload.wikimedia.org/wikipedia/commons/thumb/1/17/Sliderule_2005.png/500px-Sliderule_2005.png 2x\" width=\"250\"/>  \n",
      "\n",
      "<img alt=\"\" class=\"thumbimage\" data-file-height=\"725\" data-file-width=\"549\" decoding=\"async\" height=\"291\" src=\"//upload.wikimedia.org/wikipedia/commons/thumb/9/9e/Difference_engine_plate_1853.jpg/220px-Difference_engine_plate_1853.jpg\" srcset=\"//upload.wikimedia.org/wikipedia/commons/thumb/9/9e/Difference_engine_plate_1853.jpg/330px-Difference_engine_plate_1853.jpg 1.5x, //upload.wikimedia.org/wikipedia/commons/thumb/9/9e/Difference_engine_plate_1853.jpg/440px-Difference_engine_plate_1853.jpg 2x\" width=\"220\"/>  \n",
      "\n",
      "<img alt=\"\" class=\"thumbimage\" data-file-height=\"3793\" data-file-width=\"3921\" decoding=\"async\" height=\"193\" src=\"//upload.wikimedia.org/wikipedia/commons/thumb/a/aa/099-tpm3-sk.jpg/200px-099-tpm3-sk.jpg\" srcset=\"//upload.wikimedia.org/wikipedia/commons/thumb/a/aa/099-tpm3-sk.jpg/300px-099-tpm3-sk.jpg 1.5x, //upload.wikimedia.org/wikipedia/commons/thumb/a/aa/099-tpm3-sk.jpg/400px-099-tpm3-sk.jpg 2x\" width=\"200\"/>  \n",
      "\n",
      "<img alt=\"\" class=\"thumbimage\" data-file-height=\"1200\" data-file-width=\"1600\" decoding=\"async\" height=\"150\" src=\"//upload.wikimedia.org/wikipedia/commons/thumb/4/4c/Z3_Deutsches_Museum.JPG/200px-Z3_Deutsches_Museum.JPG\" srcset=\"//upload.wikimedia.org/wikipedia/commons/thumb/4/4c/Z3_Deutsches_Museum.JPG/300px-Z3_Deutsches_Museum.JPG 1.5x, //upload.wikimedia.org/wikipedia/commons/thumb/4/4c/Z3_Deutsches_Museum.JPG/400px-Z3_Deutsches_Museum.JPG 2x\" width=\"200\"/>  \n",
      "\n",
      "<img alt=\"Two women are seen by the Colossus computer.\" class=\"thumbimage\" data-file-height=\"2337\" data-file-width=\"3504\" decoding=\"async\" height=\"167\" src=\"//upload.wikimedia.org/wikipedia/commons/thumb/4/4b/Colossus.jpg/250px-Colossus.jpg\" srcset=\"//upload.wikimedia.org/wikipedia/commons/thumb/4/4b/Colossus.jpg/375px-Colossus.jpg 1.5x, //upload.wikimedia.org/wikipedia/commons/thumb/4/4b/Colossus.jpg/500px-Colossus.jpg 2x\" width=\"250\"/>  \n",
      "\n",
      "<img alt=\"\" class=\"thumbimage\" data-file-height=\"1024\" data-file-width=\"1340\" decoding=\"async\" height=\"191\" src=\"//upload.wikimedia.org/wikipedia/commons/thumb/4/4e/Eniac.jpg/250px-Eniac.jpg\" srcset=\"//upload.wikimedia.org/wikipedia/commons/thumb/4/4e/Eniac.jpg/375px-Eniac.jpg 1.5x, //upload.wikimedia.org/wikipedia/commons/thumb/4/4e/Eniac.jpg/500px-Eniac.jpg 2x\" width=\"250\"/>  \n",
      "\n",
      "<img alt=\"Three tall racks containing electronic circuit boards\" class=\"thumbimage\" data-file-height=\"2286\" data-file-width=\"3430\" decoding=\"async\" height=\"167\" src=\"//upload.wikimedia.org/wikipedia/commons/thumb/2/21/SSEM_Manchester_museum_close_up.jpg/250px-SSEM_Manchester_museum_close_up.jpg\" srcset=\"//upload.wikimedia.org/wikipedia/commons/thumb/2/21/SSEM_Manchester_museum_close_up.jpg/375px-SSEM_Manchester_museum_close_up.jpg 1.5x, //upload.wikimedia.org/wikipedia/commons/thumb/2/21/SSEM_Manchester_museum_close_up.jpg/500px-SSEM_Manchester_museum_close_up.jpg 2x\" width=\"250\"/>  \n",
      "\n",
      "<img alt=\"\" class=\"thumbimage\" data-file-height=\"768\" data-file-width=\"1024\" decoding=\"async\" height=\"165\" src=\"//upload.wikimedia.org/wikipedia/commons/thumb/e/e2/Transistor-die-KSY34.jpg/220px-Transistor-die-KSY34.jpg\" srcset=\"//upload.wikimedia.org/wikipedia/commons/thumb/e/e2/Transistor-die-KSY34.jpg/330px-Transistor-die-KSY34.jpg 1.5x, //upload.wikimedia.org/wikipedia/commons/thumb/e/e2/Transistor-die-KSY34.jpg/440px-Transistor-die-KSY34.jpg 2x\" width=\"220\"/>  \n",
      "\n",
      "<img alt=\"\" class=\"thumbimage\" data-file-height=\"408\" data-file-width=\"613\" decoding=\"async\" height=\"146\" src=\"//upload.wikimedia.org/wikipedia/commons/thumb/a/a5/MOSFET_Structure.png/220px-MOSFET_Structure.png\" srcset=\"//upload.wikimedia.org/wikipedia/commons/thumb/a/a5/MOSFET_Structure.png/330px-MOSFET_Structure.png 1.5x, //upload.wikimedia.org/wikipedia/commons/thumb/a/a5/MOSFET_Structure.png/440px-MOSFET_Structure.png 2x\" width=\"220\"/>  \n",
      "\n",
      "<div class=\"thumbimage\" style=\"height:214px;overflow:hidden\"><a class=\"image\" href=\"/wiki/File:MOS_6502_die.jpg\"><img alt=\"MOS 6502 computer chip die photograph\" data-file-height=\"2998\" data-file-width=\"2696\" decoding=\"async\" height=\"215\" src=\"//upload.wikimedia.org/wikipedia/commons/thumb/8/8b/MOS_6502_die.jpg/193px-MOS_6502_die.jpg\" srcset=\"//upload.wikimedia.org/wikipedia/commons/thumb/8/8b/MOS_6502_die.jpg/290px-MOS_6502_die.jpg 1.5x, //upload.wikimedia.org/wikipedia/commons/thumb/8/8b/MOS_6502_die.jpg/386px-MOS_6502_die.jpg 2x\" width=\"193\"/></a></div>  \n",
      "\n",
      "<div class=\"thumbimage\" style=\"height:214px;overflow:hidden\"><a class=\"image\" href=\"/wiki/File:MOS_6502A.jpg\"><img alt=\"MOS 6502 computer chip in 'DIP' package\" data-file-height=\"590\" data-file-width=\"800\" decoding=\"async\" height=\"215\" src=\"//upload.wikimedia.org/wikipedia/commons/thumb/0/0c/MOS_6502A.jpg/291px-MOS_6502A.jpg\" srcset=\"//upload.wikimedia.org/wikipedia/commons/thumb/0/0c/MOS_6502A.jpg/437px-MOS_6502A.jpg 1.5x, //upload.wikimedia.org/wikipedia/commons/thumb/0/0c/MOS_6502A.jpg/582px-MOS_6502A.jpg 2x\" width=\"291\"/></a></div>  \n",
      "\n",
      "<video class=\"thumbimage\" controls=\"\" data-durationhint=\"115\" data-mwprovider=\"wikimediacommons\" data-mwtitle=\"Computer_Components.webm\" height=\"147\" id=\"mwe_player_0\" poster=\"//upload.wikimedia.org/wikipedia/commons/thumb/d/dc/Computer_Components.webm/220px--Computer_Components.webm.jpg\" preload=\"none\" width=\"220\"><source data-bandwidth=\"498392\" data-framerate=\"29.97\" data-height=\"480\" data-shorttitle=\"VP9 480P\" data-title=\"SD VP9 (480P)\" data-transcodekey=\"480p.vp9.webm\" data-width=\"720\" src=\"//upload.wikimedia.org/wikipedia/commons/transcoded/d/dc/Computer_Components.webm/Computer_Components.webm.480p.vp9.webm\" type='video/webm; codecs=\"vp9, opus\"'/><source data-bandwidth=\"1023184\" data-framerate=\"29.97\" data-height=\"480\" data-shorttitle=\"WebM 480P\" data-title=\"SD WebM (480P)\" data-transcodekey=\"480p.webm\" data-width=\"720\" src=\"//upload.wikimedia.org/wikipedia/commons/transcoded/d/dc/Computer_Components.webm/Computer_Components.webm.480p.webm\" type='video/webm; codecs=\"vp8, vorbis\"'/><source data-bandwidth=\"1417457\" data-framerate=\"29.97\" data-height=\"480\" data-shorttitle=\"WebM source\" data-title=\"Original WebM file, 720 × 480 (1.42 Mbps)\" data-width=\"720\" src=\"//upload.wikimedia.org/wikipedia/commons/d/dc/Computer_Components.webm\" type='video/webm; codecs=\"vp8, vorbis\"'/><source data-bandwidth=\"85296\" data-framerate=\"29.97\" data-height=\"120\" data-shorttitle=\"VP9 120P\" data-title=\"Lowest bandwidth VP9 (120P)\" data-transcodekey=\"120p.vp9.webm\" data-width=\"180\" src=\"//upload.wikimedia.org/wikipedia/commons/transcoded/d/dc/Computer_Components.webm/Computer_Components.webm.120p.vp9.webm\" type='video/webm; codecs=\"vp9, opus\"'/><source data-bandwidth=\"131696\" data-framerate=\"29.97\" data-height=\"160\" data-shorttitle=\"WebM 160P\" data-title=\"Low bandwidth WebM (160P)\" data-transcodekey=\"160p.webm\" data-width=\"240\" src=\"//upload.wikimedia.org/wikipedia/commons/transcoded/d/dc/Computer_Components.webm/Computer_Components.webm.160p.webm\" type='video/webm; codecs=\"vp8, vorbis\"'/><source data-bandwidth=\"138864\" data-framerate=\"29.97\" data-height=\"180\" data-shorttitle=\"VP9 180P\" data-title=\"Low bandwidth VP9 (180P)\" data-transcodekey=\"180p.vp9.webm\" data-width=\"270\" src=\"//upload.wikimedia.org/wikipedia/commons/transcoded/d/dc/Computer_Components.webm/Computer_Components.webm.180p.vp9.webm\" type='video/webm; codecs=\"vp9, opus\"'/><source data-bandwidth=\"177896\" data-framerate=\"29.97\" data-height=\"240\" data-shorttitle=\"VP9 240P\" data-title=\"Small VP9 (240P)\" data-transcodekey=\"240p.vp9.webm\" data-width=\"360\" src=\"//upload.wikimedia.org/wikipedia/commons/transcoded/d/dc/Computer_Components.webm/Computer_Components.webm.240p.vp9.webm\" type='video/webm; codecs=\"vp9, opus\"'/><source data-bandwidth=\"258600\" data-framerate=\"29.97\" data-height=\"240\" data-shorttitle=\"WebM 240P\" data-title=\"Small WebM (240P)\" data-transcodekey=\"240p.webm\" data-width=\"360\" src=\"//upload.wikimedia.org/wikipedia/commons/transcoded/d/dc/Computer_Components.webm/Computer_Components.webm.240p.webm\" type='video/webm; codecs=\"vp8, vorbis\"'/><source data-bandwidth=\"291232\" data-framerate=\"29.97\" data-height=\"360\" data-shorttitle=\"VP9 360P\" data-title=\"VP9 (360P)\" data-transcodekey=\"360p.vp9.webm\" data-width=\"540\" src=\"//upload.wikimedia.org/wikipedia/commons/transcoded/d/dc/Computer_Components.webm/Computer_Components.webm.360p.vp9.webm\" type='video/webm; codecs=\"vp9, opus\"'/><source data-bandwidth=\"513696\" data-framerate=\"29.97\" data-height=\"360\" data-shorttitle=\"WebM 360P\" data-title=\"WebM (360P)\" data-transcodekey=\"360p.webm\" data-width=\"540\" src=\"//upload.wikimedia.org/wikipedia/commons/transcoded/d/dc/Computer_Components.webm/Computer_Components.webm.360p.webm\" type='video/webm; codecs=\"vp8, vorbis\"'/></video>  \n",
      "\n",
      "<img alt=\"\" class=\"thumbimage\" data-file-height=\"180\" data-file-width=\"500\" decoding=\"async\" height=\"119\" src=\"//upload.wikimedia.org/wikipedia/commons/thumb/2/2a/Mips32_addi.svg/330px-Mips32_addi.svg.png\" srcset=\"//upload.wikimedia.org/wikipedia/commons/thumb/2/2a/Mips32_addi.svg/495px-Mips32_addi.svg.png 1.5x, //upload.wikimedia.org/wikipedia/commons/thumb/2/2a/Mips32_addi.svg/660px-Mips32_addi.svg.png 2x\" width=\"330\"/>  \n",
      "\n",
      "<img alt=\"\" class=\"thumbimage\" data-file-height=\"960\" data-file-width=\"1280\" decoding=\"async\" height=\"165\" src=\"//upload.wikimedia.org/wikipedia/commons/thumb/5/51/Magnetic_core.jpg/220px-Magnetic_core.jpg\" srcset=\"//upload.wikimedia.org/wikipedia/commons/thumb/5/51/Magnetic_core.jpg/330px-Magnetic_core.jpg 1.5x, //upload.wikimedia.org/wikipedia/commons/thumb/5/51/Magnetic_core.jpg/440px-Magnetic_core.jpg 2x\" width=\"220\"/>  \n",
      "\n",
      "<img alt=\"\" class=\"thumbimage\" data-file-height=\"2304\" data-file-width=\"3456\" decoding=\"async\" height=\"147\" src=\"//upload.wikimedia.org/wikipedia/commons/thumb/0/00/HDDspin.JPG/220px-HDDspin.JPG\" srcset=\"//upload.wikimedia.org/wikipedia/commons/thumb/0/00/HDDspin.JPG/330px-HDDspin.JPG 1.5x, //upload.wikimedia.org/wikipedia/commons/thumb/0/00/HDDspin.JPG/440px-HDDspin.JPG 2x\" width=\"220\"/>  \n",
      "\n",
      "<img alt=\"\" class=\"thumbimage\" data-file-height=\"1944\" data-file-width=\"2592\" decoding=\"async\" height=\"188\" src=\"//upload.wikimedia.org/wikipedia/commons/thumb/a/a2/Cray_2_Arts_et_Metiers_dsc03940.jpg/250px-Cray_2_Arts_et_Metiers_dsc03940.jpg\" srcset=\"//upload.wikimedia.org/wikipedia/commons/thumb/a/a2/Cray_2_Arts_et_Metiers_dsc03940.jpg/375px-Cray_2_Arts_et_Metiers_dsc03940.jpg 1.5x, //upload.wikimedia.org/wikipedia/commons/thumb/a/a2/Cray_2_Arts_et_Metiers_dsc03940.jpg/500px-Cray_2_Arts_et_Metiers_dsc03940.jpg 2x\" width=\"250\"/>  \n",
      "\n",
      "<img alt=\"\" class=\"thumbimage\" data-file-height=\"2296\" data-file-width=\"3477\" decoding=\"async\" height=\"145\" src=\"//upload.wikimedia.org/wikipedia/commons/thumb/b/bb/SSEM_Manchester_museum.jpg/220px-SSEM_Manchester_museum.jpg\" srcset=\"//upload.wikimedia.org/wikipedia/commons/thumb/b/bb/SSEM_Manchester_museum.jpg/330px-SSEM_Manchester_museum.jpg 1.5x, //upload.wikimedia.org/wikipedia/commons/thumb/b/bb/SSEM_Manchester_museum.jpg/440px-SSEM_Manchester_museum.jpg 2x\" width=\"220\"/>  \n",
      "\n",
      "<img alt=\"\" class=\"thumbimage\" data-file-height=\"809\" data-file-width=\"1687\" decoding=\"async\" height=\"106\" src=\"//upload.wikimedia.org/wikipedia/commons/thumb/5/58/FortranCardPROJ039.agr.jpg/220px-FortranCardPROJ039.agr.jpg\" srcset=\"//upload.wikimedia.org/wikipedia/commons/thumb/5/58/FortranCardPROJ039.agr.jpg/330px-FortranCardPROJ039.agr.jpg 1.5x, //upload.wikimedia.org/wikipedia/commons/thumb/5/58/FortranCardPROJ039.agr.jpg/440px-FortranCardPROJ039.agr.jpg 2x\" width=\"220\"/>  \n",
      "\n",
      "<img alt=\"\" class=\"thumbimage\" data-file-height=\"2285\" data-file-width=\"2889\" decoding=\"async\" height=\"174\" src=\"//upload.wikimedia.org/wikipedia/commons/thumb/f/ff/First_Computer_Bug%2C_1945.jpg/220px-First_Computer_Bug%2C_1945.jpg\" srcset=\"//upload.wikimedia.org/wikipedia/commons/thumb/f/ff/First_Computer_Bug%2C_1945.jpg/330px-First_Computer_Bug%2C_1945.jpg 1.5x, //upload.wikimedia.org/wikipedia/commons/thumb/f/ff/First_Computer_Bug%2C_1945.jpg/440px-First_Computer_Bug%2C_1945.jpg 2x\" width=\"220\"/>  \n",
      "\n",
      "<img alt=\"\" class=\"thumbimage\" data-file-height=\"1280\" data-file-width=\"1280\" decoding=\"async\" height=\"220\" src=\"//upload.wikimedia.org/wikipedia/commons/thumb/d/d2/Internet_map_1024.jpg/220px-Internet_map_1024.jpg\" srcset=\"//upload.wikimedia.org/wikipedia/commons/thumb/d/d2/Internet_map_1024.jpg/330px-Internet_map_1024.jpg 1.5x, //upload.wikimedia.org/wikipedia/commons/thumb/d/d2/Internet_map_1024.jpg/440px-Internet_map_1024.jpg 2x\" width=\"220\"/>  \n",
      "\n"
     ]
    }
   ],
   "source": [
    "for x in data.select(\".thumbimage\"):\n",
    "    print(x,\" \\n\")# Get the image URL"
   ]
  },
  {
   "cell_type": "code",
   "execution_count": 51,
   "metadata": {},
   "outputs": [],
   "source": [
    "\n",
    "img1 = data.select(\".thumbimage\")[7]"
   ]
  },
  {
   "cell_type": "code",
   "execution_count": 53,
   "metadata": {},
   "outputs": [
    {
     "data": {
      "text/plain": [
       "{'alt': '',\n",
       " 'src': '//upload.wikimedia.org/wikipedia/commons/thumb/4/42/Os_d%27Ishango_IRSNB.JPG/140px-Os_d%27Ishango_IRSNB.JPG',\n",
       " 'decoding': 'async',\n",
       " 'width': '140',\n",
       " 'height': '227',\n",
       " 'class': ['thumbimage'],\n",
       " 'srcset': '//upload.wikimedia.org/wikipedia/commons/thumb/4/42/Os_d%27Ishango_IRSNB.JPG/210px-Os_d%27Ishango_IRSNB.JPG 1.5x, //upload.wikimedia.org/wikipedia/commons/thumb/4/42/Os_d%27Ishango_IRSNB.JPG/280px-Os_d%27Ishango_IRSNB.JPG 2x',\n",
       " 'data-file-width': '1404',\n",
       " 'data-file-height': '2274'}"
      ]
     },
     "execution_count": 53,
     "metadata": {},
     "output_type": "execute_result"
    }
   ],
   "source": [
    "img1.attrs"
   ]
  },
  {
   "cell_type": "code",
   "execution_count": 59,
   "metadata": {},
   "outputs": [],
   "source": [
    "img_link =  img1[\"src\"]"
   ]
  },
  {
   "cell_type": "code",
   "execution_count": null,
   "metadata": {},
   "outputs": [],
   "source": []
  },
  {
   "cell_type": "code",
   "execution_count": null,
   "metadata": {},
   "outputs": [],
   "source": []
  },
  {
   "cell_type": "code",
   "execution_count": 61,
   "metadata": {},
   "outputs": [],
   "source": [
    "img_link = requests.get(\"https:\"+ img1_src)"
   ]
  },
  {
   "cell_type": "code",
   "execution_count": 63,
   "metadata": {},
   "outputs": [
    {
     "data": {
      "text/plain": [
       "b'\\xff\\xd8\\xff\\xe1\\x00zExif\\x00\\x00MM\\x00*\\x00\\x00\\x00\\x08\\x00\\x05\\x01\\x0e\\x00\\x02\\x00\\x00\\x00\\x17\\x00\\x00\\x00J\\x01\\x1a\\x00\\x05\\x00\\x00\\x00\\x01\\x00\\x00\\x00b\\x01\\x1b\\x00\\x05\\x00\\x00\\x00\\x01\\x00\\x00\\x00j\\x01(\\x00\\x03\\x00\\x00\\x00\\x01\\x00\\x02\\x00\\x00\\x02\\x13\\x00\\x03\\x00\\x00\\x00\\x01\\x00\\x01\\x00\\x00\\x00\\x00\\x00\\x00OLYMPUS DIGITAL CAMERA\\x00\\x00\\x00\\x00\\x00H\\x00\\x00\\x00\\x01\\x00\\x00\\x00H\\x00\\x00\\x00\\x01\\xff\\xe2\\x02\\x1cICC_PROFILE\\x00\\x01\\x01\\x00\\x00\\x02\\x0clcms\\x02\\x10\\x00\\x00mntrRGB XYZ \\x07\\xdc\\x00\\x01\\x00\\x19\\x00\\x03\\x00)\\x009acspAPPL\\x00\\x00\\x00\\x00\\x00\\x00\\x00\\x00\\x00\\x00\\x00\\x00\\x00\\x00\\x00\\x00\\x00\\x00\\x00\\x00\\x00\\x00\\x00\\x00\\x00\\x00\\xf6\\xd6\\x00\\x01\\x00\\x00\\x00\\x00\\xd3-lcms\\x00\\x00\\x00\\x00\\x00\\x00\\x00\\x00\\x00\\x00\\x00\\x00\\x00\\x00\\x00\\x00\\x00\\x00\\x00\\x00\\x00\\x00\\x00\\x00\\x00\\x00\\x00\\x00\\x00\\x00\\x00\\x00\\x00\\x00\\x00\\x00\\x00\\x00\\x00\\x00\\x00\\x00\\x00\\x00\\x00\\x00\\x00\\ndesc\\x00\\x00\\x00\\xfc\\x00\\x00\\x00^cprt\\x00\\x00\\x01\\\\\\x00\\x00\\x00\\x0bwtpt\\x00\\x00\\x01h\\x00\\x00\\x00\\x14bkpt\\x00\\x00\\x01|\\x00\\x00\\x00\\x14rXYZ\\x00\\x00\\x01\\x90\\x00\\x00\\x00\\x14gXYZ\\x00\\x00\\x01\\xa4\\x00\\x00\\x00\\x14bXYZ\\x00\\x00\\x01\\xb8\\x00\\x00\\x00\\x14rTRC\\x00\\x00\\x01\\xcc\\x00\\x00\\x00@gTRC\\x00\\x00\\x01\\xcc\\x00\\x00\\x00@bTRC\\x00\\x00\\x01\\xcc\\x00\\x00\\x00@desc\\x00\\x00\\x00\\x00\\x00\\x00\\x00\\x03c2\\x00\\x00\\x00\\x00\\x00\\x00\\x00\\x00\\x00\\x00\\x00\\x00\\x00\\x00\\x00\\x00\\x00\\x00\\x00\\x00\\x00\\x00\\x00\\x00\\x00\\x00\\x00\\x00\\x00\\x00\\x00\\x00\\x00\\x00\\x00\\x00\\x00\\x00\\x00\\x00\\x00\\x00\\x00\\x00\\x00\\x00\\x00\\x00\\x00\\x00\\x00\\x00\\x00\\x00\\x00\\x00\\x00\\x00\\x00\\x00\\x00\\x00\\x00\\x00\\x00\\x00\\x00\\x00\\x00\\x00\\x00\\x00\\x00\\x00\\x00\\x00\\x00\\x00\\x00\\x00\\x00\\x00text\\x00\\x00\\x00\\x00FB\\x00\\x00XYZ \\x00\\x00\\x00\\x00\\x00\\x00\\xf6\\xd6\\x00\\x01\\x00\\x00\\x00\\x00\\xd3-XYZ \\x00\\x00\\x00\\x00\\x00\\x00\\x03\\x16\\x00\\x00\\x033\\x00\\x00\\x02\\xa4XYZ \\x00\\x00\\x00\\x00\\x00\\x00o\\xa2\\x00\\x008\\xf5\\x00\\x00\\x03\\x90XYZ \\x00\\x00\\x00\\x00\\x00\\x00b\\x99\\x00\\x00\\xb7\\x85\\x00\\x00\\x18\\xdaXYZ \\x00\\x00\\x00\\x00\\x00\\x00$\\xa0\\x00\\x00\\x0f\\x84\\x00\\x00\\xb6\\xcfcurv\\x00\\x00\\x00\\x00\\x00\\x00\\x00\\x1a\\x00\\x00\\x00\\xcb\\x01\\xc9\\x03c\\x05\\x92\\x08k\\x0b\\xf6\\x10?\\x15Q\\x1b4!\\xf1)\\x902\\x18;\\x92F\\x05Qw]\\xedkpz\\x05\\x89\\xb1\\x9a|\\xaci\\xbf}\\xd3\\xc3\\xe90\\xff\\xff\\xff\\xdb\\x00C\\x00\\x04\\x03\\x03\\x04\\x03\\x03\\x04\\x04\\x03\\x04\\x05\\x04\\x04\\x05\\x06\\n\\x07\\x06\\x06\\x06\\x06\\r\\t\\n\\x08\\n\\x0f\\r\\x10\\x10\\x0f\\r\\x0f\\x0e\\x11\\x13\\x18\\x14\\x11\\x12\\x17\\x12\\x0e\\x0f\\x15\\x1c\\x15\\x17\\x19\\x19\\x1b\\x1b\\x1b\\x10\\x14\\x1d\\x1f\\x1d\\x1a\\x1f\\x18\\x1a\\x1b\\x1a\\xff\\xdb\\x00C\\x01\\x04\\x05\\x05\\x06\\x05\\x06\\x0c\\x07\\x07\\x0c\\x1a\\x11\\x0f\\x11\\x1a\\x1a\\x1a\\x1a\\x1a\\x1a\\x1a\\x1a\\x1a\\x1a\\x1a\\x1a\\x1a\\x1a\\x1a\\x1a\\x1a\\x1a\\x1a\\x1a\\x1a\\x1a\\x1a\\x1a\\x1a\\x1a\\x1a\\x1a\\x1a\\x1a\\x1a\\x1a\\x1a\\x1a\\x1a\\x1a\\x1a\\x1a\\x1a\\x1a\\x1a\\x1a\\x1a\\x1a\\x1a\\x1a\\x1a\\x1a\\x1a\\x1a\\xff\\xc0\\x00\\x11\\x08\\x00\\xe3\\x00\\x8c\\x03\\x01\"\\x00\\x02\\x11\\x01\\x03\\x11\\x01\\xff\\xc4\\x00\\x1c\\x00\\x00\\x01\\x05\\x01\\x01\\x01\\x00\\x00\\x00\\x00\\x00\\x00\\x00\\x00\\x00\\x00\\x03\\x01\\x02\\x04\\x05\\x06\\x07\\x00\\x08\\xff\\xc4\\x00B\\x10\\x00\\x01\\x03\\x03\\x02\\x04\\x04\\x03\\x06\\x03\\x06\\x03\\t\\x00\\x00\\x00\\x01\\x02\\x03\\x11\\x00\\x04!\\x121\\x05\\x06AQ\\x13\"aq\\x81\\x91\\xa1\\x07\\x14#2B\\xb1R\\xc1\\xe1\\x15\\x16$C\\xd1\\xf0b\\x82\\xb2%346drt\\x92\\xf1\\xff\\xc4\\x00\\x1a\\x01\\x00\\x02\\x03\\x01\\x01\\x00\\x00\\x00\\x00\\x00\\x00\\x00\\x00\\x00\\x00\\x00\\x01\\x02\\x03\\x04\\x05\\x00\\x06\\xff\\xc4\\x00*\\x11\\x00\\x02\\x02\\x01\\x04\\x02\\x02\\x00\\x05\\x05\\x00\\x00\\x00\\x00\\x00\\x00\\x00\\x01\\x02\\x11\\x03\\x04\\x12!12A\\x13Q\\x14\"3aq\\x15\\x81\\xb1\\xd1\\xf0\\xff\\xda\\x00\\x0c\\x03\\x01\\x00\\x02\\x11\\x03\\x11\\x00?\\x00\\x9c\\x91\\xa8\\xef\\x04oH\\xb6\\xe50\\x93\\x81\\xb1\\xefGBR\\xe18\\x92\\x0ed\\xc5\\x10\\xa30N\\xfb\\xcdx_G\\xab+\\xd4\\x9d \\xee\\x00#j2Q\\xa5`\\x99\\n\\xf6\\xa3\\x94(\\xa4\\xa53\\x9a\\xf0f@^\\nS\\x8c\\xef\\\\\\x91\\xc4G#^F\\xff\\x00\\x014\\x84A%}zw\\xa9\\x8f2T\\x826P\\xce\\x06\\xd4\\x04\\xa4\\xe9\\x90\\t\\x07\\xaaz\\xd3\\x80\\x12@+\\xc8\\xe9M\\x03\\x04\\xc6\\xf3\\xd6\\xa4!\\xa0\\x02\\xc8L\\x0e\\x93\\xb9\\xa4\\x16\\xe3F\\xf0\\x08\\xc9\\xde\\xb8\\x00| \\x90\\t\\xce\\x05\\x15\\r\\xe7\\\\b\"M;\\xc3\\xf0\\xc0B\\xc9*O\\xd6\\xbc\\x84\\xa8\\t \\xe4\\xc9=\\xe9\\xbf\\x900.\\xed\\x84\\xc7j\\x102\\x01\\xd5\\'\\xae:\\xd4\\xc2\\xdf\\xf1\\xfec\\xb8\\xefB\\xd0\\x856R7\\xcd\\x13\\x88\\xce#:\\xbb\\xedTw\\x89\\xff\\x00\\x16\\xef\\xcf\\xe9Z\\x03\\x05\\xb0c\\xfaU-\\xf0\\xff\\x00\\x18\\xe4o\\x03\\xf6\\xae@D8\\x88\\x815\\xed\\xb7\\x1d(\\xa1\\x11\\xb8;\\x1ar\\xc0\\x95\\x106M:\\x00\\x00\\x8d\\xbd\\xab\\xc0\\x001\\x03\\xe3E\\x8d\\xe9\\x91\\x11\\x19\\x9c\\xd1\\xbe\\x00n\\x16\\x84\\xb3\\x04NF\\xc3\\xady\\x02Ln}F\\xc2\\xac\\xd2\\xdaI\\x1020I\\x19\\x147\\xd9Kj\\nJd\\xa8d\\xcfZ\\xaf\\xb5\\x0e\\xa5|\\x10R\\x92\\x0c\\xe4\\xfbQ\\x1b\\x1a\\x81J\\xc1\\xed\\xbf\\xd2\\x8eZ\\x13\\x81\\x98\\x9c\\xe2)R\\x8d+ \\x0e\\xb2&\\xb8\\xeb\\xb1\\x8d4\\xa5&7\\x8e\\xa4\\xef@u\\x82\\xd9)\\x00\\x82D\\xa4\\x7f*\\x9c\\x91\\xa6t\\xe0\\xf7\\x06h\\xb8Q\\x19\\x04\\xa7i\\xa7@\\xba!*\\xdc!\\xa0\\x93\\x92bh\\x05\\xa1\\xe2@\\xcdL\\xb9ZP\\x16\\xeb\\xabKh@\\xd4\\xa5\\xadP\\x94\\x8e\\xe4\\xf4\\xa9O\\'\\x81\\xb4\\xb3<F\\xfd\\xe0\\xa4\\xcc&\\xd1(>\\x99*8\\xdf\\xe5P\\xe5\\xcf\\x8f\\rn\\xf7\\xfb64#)\\xf4R\\xb8\\xde\\xa2OS\\xb5!F\\x93\\x13\\x107\\xa9\\t\\t^\\x85!IZH\\xd4![\\xa7\\xa5\"\\x92\\x00\\x93\\x9c\\xc0\\xa9\\x94\\x94\\x95\\xa0>\\x1d2*\\xd6H\\xef\\xb5GL\\xccT\\xc55\\x8c\\x1e\\xbbTp\\x89\\x92~tC\\xc0\\x02\\x90\\x10\\xae\\x80mU\\x17\\xc0\\xfd\\xe9d\\xc8\\xf2\\n\\xbd(\\xef\\x90\\xad\\xea\\x9e\\xf4\\x7f\\x882$h\\x15\\xc2\\xd1\\x10\\x0cEz\\x04(\\x11\\x8e\\xb4\\xf8\\xc7\\xb51BJ\\x84\\xc6\\xd4P\\x1d\\x82R`\\x1fQ\\xda\\x92;b\\x89\\x04\\x838\\x9e\\x95\\xe2{\\x01\\xf1\\xa6\\x14\\xe9\\xda`\\t*\\x826\\xedC}\\xb2\\x96F\\xc6H\\xcc\\xd4\\xc6\\xc2&\\x08\\x82\\x121\\xebB\\xb8\\t,\\xa8$\\xf9\\x85F*|\\x90\\xa0\\xcae9\\xce\\xe6\\x9b\\x10GY\\x14B\\x92\\x08\\x02I$L\\x1cS\\x964\\xa4\\x18\\xc4\\xe4\\xd2\\x92\\x82u~\\x12<Ul\\x07\\x98\\xc5c\\xee\\xf9\\xc1\\xa6\\x9eq\\x01b\\x12H\\xde\\xb5\\x9cE\\xb2\\xbe\\x1dr\\x133\\xe1*\\x13\\xeb_8\\\\\\xba\\xea\\xae^.)Z\\xb5\\x19\\xcd5\\xa5\\xc8\\xd1Vt\\xfeq\\x7f\\xfb\\xcf\\xc8\\x9cU\\x16\\xebW\\x8dl\\x1b\\xbbN\\x95F\\xad\\n\\x05@\\xfaA\\'\\xe0*/\\x04\\xe2\\xaf\\x9e\\tb\\xebn6\\x1cQJ\\x15\\xaf0A#o_/\\xa6j\\xaf\\xec\\xe5\\xd5_q\\x0b\\x8e\\x19p\\xa2\\xa6n\\xad\\\\j\\x0fe$\\xa7\\xf9\\xd5o\\'\\xf8\\xcer\\xc0\\xb4>\\x12\\x96\\xcb\\xda\\x08\\xf1\\x08T\\xc0\\xce\\xdb\\x8d;\\x0fOz~\\'\\n}X\\x8dl\\x9d\\xa3k\\xc9W\\xcf\\xdcq\\x8e-ot\\xa4\\x8d\\x16\\xe9R\\x12\\x12\\x91\\xa5>&p\\x07u~\\xd5\\xb2P\\x92\\x06\\xd1\\\\\\xff\\x00\\x93\\x93\\xe0\\xf3PV\\xa2|kGP\\xb3\\xd0\\x9c\\x11\\xff\\x00I\\xae\\x84\\xa3\\xe6>\\xd4$\\x92|\\x05[\\xe5\\x82Rs\\xf9D\\x1a\\x16\\x91\\'\\xad\\x11j\\xd1%J\\x80N\\x05\\x0c\\xacN\\x0c\\x11KcW\\x00JbDl1\\x9a\\xaa\\xbfD\\\\\\x9e\\x80\\xa0~\\xf5pNA\\xf4\\x8a\\xab\\xe2B\\x1dA\\xdf\\xc9\\x1fZ`\\x10br\\x7fzj\\xd2\\t\\xc7EI\\x8a~J\\x84\\x1cM\"PNI\\x9d\\xe8\\n\\x05Fw\\x02I\\xa5\\x08\\x06I\\xefD\\t\\x00\\x8c\\x99\\xa5\\x8e\\xdfZaN\\x8f\\xa7I\\x9e\\xa0\\xe2\\x9aV\\x03NH\\xf3@\\xe9O\\x07&z\\xe4M1xm\\xdf4@\\x19\\x8a\\x8c\\xe2(u*)\\xeb\\xb4v\\xa3\\xa4\\x85~Y\\x8fZ\\x84K\\tR\\xb5\\x12@\\xc5Ii\\xc4\\xb8\\x98l\\xc8\\xef\\xb5\\x04=\\x0e\\x80\\xb4\\xa9\\x12\\t#\\xa5|\\xe1\\xcc\\xb6\\xff\\x00s\\xe3\\xd7\\xec\\x84\\xe9\\x01\\xd2@\\xf7\\xaf\\xa3\\xd2\\xa0\\x85\\x02\"\\x12N\\xe2\\xb8g\\xdaE\\xa1\\xb7\\xe6\\xa7\\x8c@p\\x05Wz\\x1e\\x0f\\x92? \\xdc\\xfd\\xd7\\x99\\xac\\xc8 \\x15H\\xab\\x16\\xd9\\x1c\\x0f\\x989\\xa2\\xc90\\xdb\\x08\\xbd[\\xa8\\x08\\x1a\\x81\\x04\\x92\\x99\\x19\\x8c-5\\x9b\\xe5\\xf7\\xbe\\xef\\xc6\\xec\\x1c\\x06\\x00xV\\xe7\\x98\\x1di\\xae~\\xba\\xb7XHE\\xe5\\x9b/\\x9c\\x94\\x02\\xad\\x04I \\xe4\\xfe\\x18\\x13\\x07\\xb1\\xa91s\\xc02\\xf1L\\xad\\xe0<D1\\xcd<%\\r\\xba\\x94\\xa1w\\x1a\\x0c\\xe4\\x14\\x99\\x10\\x0fBf\\xba\\xa2\\x94\\x9f8V\\xf3\\x88\\xaeS~\\x9bv.\\x1bv\\xd9a\\xab\\x9bu\\x85\\xb6I#\\xce\\x95\\x03\\x9fA\\x8a\\xea\\x8ap.\\\\\\x18\\n\\xf3\\x8c\\xf7\\x13\\xfc\\xe8\\xce\\xbbHX\\xa0J\\x01\\xc7\\x147\\t\\xfaTgZ!F\\x0czT\\xb6\\xc1#\\'\\xcc\\xaaj\\x926\\xf9Tuc\\xdf\\xa2:U\\xe4\\x9e\\xa0\\xe7\\xde\\xab\\xf8\\x90\\x957\\xa8\\xfe\\x93\\xfb\\xd4\\xe0aK\\x1e\\xa3j\\x81\\xc4\\t*h\\xf52?j>\\x80D\\x10)5\\x01\\x8fJI\\x91\\'4\\xe2\\x04g\\x18\\xa2\\x85`\\xc6\\xf0N\\xd4\\xf4\\x8d\\xe4\\nLf\\x07J]\\xa6M\\x11(\\xe8\\x9a\\xc1\\x10F@\\xf9\\xd0\\x9cqJ\\n\\t#\\xcc\"hBtJ\\xa6#\\xa7Zj\\xd6s \\x02*!\\xe8\\x86B\\xa4\\x85y\\x88\\x19\\x13E\\xb7p!B`N>4\\xcb\\x825\\x87\\x13\\x82`\\x1c\\xd2\\x033\\xfc=1\\xd6\\x87\\xb2OD\\xa2\\xaf\\xcd\\xd5Q\\'\\xd6\\xb9G\\xda\\xca\\x7f\\xedK7c+j+\\xa7\\xb8\\xa8(Y\\xd4@\\xc67\\x13\\\\\\xdb\\xedU \\x9e\\x1e\\xe2{\\x90k\\x8e\\x8a\\xe4\\xe7\\x8c9\\xe1>\\xd3\\x83\\x05*\\x06\\xb6\\x9c\\xdc\\xf2\\xd3\\xcc\\xdc\\x07\\x886S7\\\\5\\t2rt\\xba\\xa1\\x1bu\\n\\xdf\\xd2\\xb0\\xe2\\x0c\\xefZn<\\xa4\\xdcp\\xceQ\\xb8x!\\xc6\\xd2\\x87\\x90\\xb4);\\x80\\xa4\\x1c\\x1e\\x84MM\\x83\\xcd\\x1d\\x9d~K\\t\\xcc\\xae\\xbe\\x97\\xdcM\\xac$\\xa6\\x15\\xb81)\\x19\\xcf\\xb6=\\xab\\xa2r\\xad\\xc1w\\x94\\xf8B\\xdc#\\xc4\\x16\\xda\\t\\xdet\\xa8\\xa7\\xf6\\x15\\x87\\xe3\\xb6\\xfa\\x94\\xf2\\x94O\\xe26\\x14\\x93\\x00\\xaaF\\xd9\\x9d\\x8f\\xa5i\\xf9\\x1d\\xc4/\\x95\\xed\\xd0\\x83\\xad\\r:\\xe2\\x12T\\x82\\x92|\\xda\\xb2?\\xe6\\xab\\x1a\\x8aIQ[\\r\\xb7l\\xd4\\xa5A\\x12N\\x08\\xd8\\xd3\\x16\\xe1P\\xce)pS&\\x84\\xb3\\xd1\"}\\xea\\x9d\\xd1f\\x81\\x98\\x0eGB\\rB\\xe2\\x1b\\xb4c9\\x1b\\xfaT\\xb5a\\xc4\\xcfc\\x15\\n\\xf8\\xeaK_\\xfb\\x8f\\xed]`!\\xc8\\x83\\xde)TA\\xf6&\\x98\\x15\":\\x13K;QB\\x9e\\x9co\\xe9\\x9aE,\\xa6!3\\x89\\xde)\\x01\\x1b\\xf7\\xa6\\xe9\\n9\\x13\\x18\\xda\\x98S{1\\x1a\\x8c\\x0e\\x94\\x8e\\xaf\\xc4N\\xdac\\xd2\\xbd\"N\\xd42H\\xccg\\xd4\\xedQ\\xd8\\xc8\\n\\xcaT\\x95\\x02$\\xc6\\x05\\x08(\\xa8H\\xdb\\xb7\\xa5>I\\xf2\\xa6\\x01\\'z\\n\\x14\\xa3\\x83\\xfaq\\xda\\x97\\xa2D\\x1c\\x9dM\\x94\\x92 b6\\xac\\x07\\xdai\\xd7\\xc3\\xad\\x14\\xa8\\x0bC\\x90s[\\xd6\\x88\\x01S\\x83\\xb8\\x8c\\x8a\\xc4\\xfd\\xa3\\xdb\\x85\\xf0P\\xe0\\t\\x84\\xb8\"+\\xbb\\x0cxg*@\\xc1&\\xaf\\xae\\xc7\\xdeyc\\x82\\x05\\'Z\\x19\\xbey\\n\\x12?SX\\xdc\\x11\\xfa\\x7f\\xadR\\xc4$\\xc1\\xab\\'\\\\J9L8\\xea\\x8a\\x1b\\xb7\\xe2\\x8d\\x95\\xc0\\x07\\nB\\xd3\\xb1\\xc7^\\xb5&?4\\x1c\\xbe\\x0c\\xd4\\xdf\\xc2-\\xac\\\\r\\x1eK\\xa5(F\\xbd\\xc9\\x02H= G\\xd2\\xa6}\\x9f\\xb8?\\xb3o\\x98I\\t\\r_\\x9ck\\xd5\\x82\\x90G\\xedPo\\x88\\x1c7\\x874\\xd2\\xc2\\x94\\xe2\\xd2B\\xbc-\\x04\\x13\\x18#=\\xa8\\xdc\\x87\\xa1\\xa78\\xb3-\\x88(q\\xb7\\x08H\\x1b\\x90E[\\xd4\\xae\\x1be<-Z\\xa3t]8\\x1b\\x1e\\xb4\\x8bV }(e@\\x99;\\x9e\\xb5\\xe2\\xae\\x93Y\\xf6[\\xa1\\x08\\x95\\xa6;\\xefQo\\x87\\x91\\x07\\xfe/\\xe5F\\xd4B\\x86I\\x89\\xa8\\xf7\\xcb\\x96\\x7f\\xe6\\x18\\xa6\\xecVA\\x06#\\x14\\x8aQ\\xc1\\xdb\\x14\\xd9\\x84\\xd3\\x16\\xa1\\x07\\xd0E2\\x03\\x1d\\xe2\\x002zS\\n\\x88?\\xd2\\x98H\\x07\\x02{\\xd2j\\xc0\\xf6\\xa7B3\\xa1\\xa9_\\xee(j=\\xb6\\xf5\\xa6\\xa8\\x99#pi\\x16\\xa9\\xfc\\xc7j\\x8cz\\x190@\\x8czP\\\\%/(\\xcf\\x94\\xe7\\x18\\xa5S\\xa7\\xbe\\x01\\xa8\\xee\\xab\\xf1A\\x18\\x91H\\xd8\\xe9\\x07I)r\\x14c\\x18\\x1bVo\\x9eP\\x1d\\xe0\\x17\\x18\\x18\"\\xaf\\n\\xc0ZH\\xdbl\\xd577y\\xb8\\x05\\xd0=\\x00\\xaeO\\x90\\xd1\\xc8\\x16 EJ*\\x0er\\xc7\\x13e\\xc0\\x14\\x93sn\\xa2\\nfrj;\\x9f*_\\x10\\xa7\\x86\\xdd\\x00\\t\\x9b\\x9br@;\\x8dfi\\xe0\\xde\\xf4\\x19\\xf83_\\xe3\\xb0\\xae\\x1df\\xe5\\xd2\\x94\\x80\\xd9H\\xf3\\xe7i \\x821=\\x8d\\x13\\x93.\\xc3\\xdc{\\x8c4\\x1a\\xf0\\x93\\xe04\\xb3\\x00\\xc1:\\xcf\\xce&\\xa8\\x94P\\xbe\\x12V\\x80\\x02R\\x85(\\x15I8;D\\xe38\\xcc\\xefR\\xb9\\x0e\\xec\\x1ee\\xbd@I\\x01Vd\\xa6\\x0e\\xf0\\xa4\\x9f\\xf5\\x8fz\\xd1\\xcc\\xae\\x12l\\xce\\xc4\\xeai#\\xa5\\xc8\\x11^R\\xa6;\\xd3\\x03\\x83J`f\\x9aI\\x02\\xb2\\x134\\x06j\\x973A\\xbcW\\xe1\\x0e\\xbea4\\xe5/\\xce\\x984+\\xb5\\x7f\\x87WX#\\xf7\\xa6@\")F\\x0c`F\\xf5\\x1d\\xc2s\\xd2M9K\\x93\\x8f\\xad\\x08\\x99>\\xe6\\xa4\\xb0\\x0e\\x1bz\\xd3\\x94\\x90\\x0c@>\\xe2\\x85&H\\xfaRx\\x82L\\xc7\\xa5:b\\xb3\\xa0\\x15\\t\\xeeGjk\\x8b\\xc1\\xc51J\\xce\"hN9)\\x13\\xbdD\\xd8\\xe9\\rR\\x81\\x06~\\x1e\\xb4\\xc7\\x08\\x05\\x04\\xf5\\xc4zR\\x05\\x95I;R<\\xa8l*14\\x8b\\x91\\x84t\\x9d\\x04z\\xf6\\xaa\\xaeg:\\xb8\\x05\\xcf\\xa2gj\\xb4\\x06D|\\xf3U|\\xc2c\\x81]I\\x1f\\x90\\x8ae\\xd8\\x0eD\\xe4\\xef\\xe9N\\xb4qIK\\xfe\\x11\\xd2\\xbf\\xc3)10B\\xc7\\xf5\\xf6\\xa18{\\x1e\\x95\\x15\\xc7KM8B\\x8aT\\xa0\\x12\\x92:\\x99\\xff\\x00\\xf6\\x99s5\\xfc\\x8d> \\xd9\\xa3\\xbb\\xd6\\xf7\\x07\\xbb[o8\\xb2\\xa4\\xa9P\\xa7\\x01\\xc9\\x13\\xbe\\xfd\\xff\\x00\\xd6\\x99\\xc9\\x8c\\xad\\x8eo\\xb5s!\\xb7l\\x1c\\x1apJa\\x03\\xaf\\xb8\\xa5eN\\xa7\\x84\\x06\\xd4\\x12\\x95xc\\xc4\\x8d\\x87\\xa0\\xdf\\xa4Q\\xb9^\\xe5)\\xe6{V\\x8a`x\\x0eA\\n\\x98\\xf2\\x1a\\xd4\\xc8\\xeb\\x14\\xab\\xf72\\xe0\\x97\\xc8\\x8e\\x94\\xa5\\x00\\x00\\x02\\x86U\\xde\\x99\\xaaDM!Tl~U\\x89f\\x98\\xd5\\xa8\\xea\\x11\\xde\\x9bvf\\xdd~\\x91\\xfb\\xd0\\xdcV\\xe6q\\xd8R\\\\\\x1dL*{S&q\\x0c\\x83?\\x1a\\x18P1\\xf4\\xa2\\xabs\\xefA\\'Lc\\xa5J\\x85b\\xaf1\\'2\"\\xbc(eY\\x12z\\xd2k=g\\xe1N\\x857\\x8e,A\\xcc\\x8a\\x8c\\xb7\\t\\xc0\\xdbqMq\\xc0f&\\x80\\xa5NA\\xaa\\xcd\\x92$\\x1d*\\x83 |\\xa9^P\\xf0L\\x193\"\\x82\\x85\\x93\\x8e\\xfd\\xa9]T\\xa1I\\xa2\\xb89\\x8a\\x0cI\\x89\\xf8\\xd5?2:G\\x02\\xba\\x9f\\xe1\\xab4\\xa8\\xe9;\\x81T\\x1c\\xd0\\xe9G\\x03\\xbb\\x9c\\r;\\x9ah\\xbeP\\x0eZ\\xeb\\x91\\xab?Z\\x8e\\xe2\\xe5\\x00\\xcf\\xebN3\\xde\\xab\\xdf\\xe2)*\\xc1\\xd5\\xedO\\xb7u\\xcb\\x948\\x96\\xf56\\xb0\\x9dIR\\x93\\xba\\x86@\\xa9c\\x17\\xbd6t\\xff\\x00M\\xff\\x00\\x06\\xad.\\x81\\xc3\\xd3\\xa0\\x15\\xa4%C$\\xc1\\xed\\x8e\\xd4^S\\xff\\x00\\xccv\\xae\\xad:T\\xe0sD\\x8c\\x8f\\xc2\\xa8<=I\\xfb\\x93It\\x80\\n%^\\xa7\\xd0|)\\xbc\\xbdv\\xe5\\xbf0Z\\xa9\\x11\\xa1\\nPH#\\x00\\xe8P\\xad|\\xb4\\xf0\\xc9/\\xa3+\\x1f\\xeaF\\xfe\\xce\\xb05D\\x0e\\xd4\\x84w\\xfd\\xea\\x8d\\\\M\\xf5n\\xb8\\x9f\\xe1\\x11QV\\xea\\xd6|\\xcbR\\x87\\xa9\\xaf=F\\xcbE\\xeb\\xaf\\xb2\\x89\\nu#\\xf7\\xa8\\xcf\\xf1\\x16R\\xca\\x90\\xd9+V\\x9d\\xa2*\\x99G\\xa51J\\x8c\\n\\x91*\\x05\\x16?\\xda\\r,\\x9c\\x94o\\xb8\\xa4\\xf1\\x02\\x8c\\xa1@\\x88\\xe9UEDSuy\\xa4\\x0c\\xf7\\xa7B\\xd1p\\t1\\x9c\\x01LQ\\x18\\x9f\\xda\\xabQp\\xe2cJ\\xd4=\\x15\\x91E\\x17\\xae\\x000\\x93\\xf1\\x8an\\x88\\xd9\\xb6r\\xe5\\x08W\\x9diO\\xba\\xa8*\\xbf\\xb7\\x1f\\xe6\\x05\\x1e\\xbaD\\xd6~\\x0c\\xff\\x008\\xa7&{\\x9a\\x8bb\\xb2K.\\xc7\\x15i1\\xa5\\x0b_\\xb8\\x8a\\x1a\\xb8\\xb2\\xd5\\x84\\xb6\\x91\\xeef\\xaa\\x86\\xa8\\x06f\\x9c\\x95\\x9c\\x05\\x1cS\\xa8\\xa02r\\xb8\\x83\\xfa`))\\x1e\\x89\\xaa~,\\xa5]Z\\xbc\\x87\\xd4\\xa5\\xa4\\x8d\\x94qKwz\\x96A\\x9f\\x8dF\\xe1\\x9c^\\xc4\\xf1Kq\\xc5H6\\xd2|\\xa4aJ\\xe8\\x0f\\xa5\\x19=\\xaa\\xc6\\x84\\\\\\xa4\\x91\\x96\\xb5\\xe5\\xbb\\xde+\\'\\x85\\xf0\\xc7\\x9fGW\\x10\\xdc#\\xff\\x00\\xb1\\xc5\\x03\\x8cr\\xe5\\xff\\x00\\x06j\\xdd\\xdb\\xdb`\\xda\\x16\\xe0\\x01I\\\\\\xe90{{W\\xd16\\\\Z\\xd5\\xc6\\xd2Y(Sp4\\xe8\"\\x00\\xf8mU\\x9c\\xe6\\x9e\\x1b\\xc78B\\xb8z\\xd4\\x18y\\xf2\\x14\\x1fCajl\\x8c\\x85\\x00q5\\x9b\\x8bU\\'\\x95\\'\\x1e,\\xbf\\x93J\\xbe6\\xaf\\x93\\x81X6^\\xb5h\\x05\\x92\\x12\\xac\\x8e\\x92;\\x8f\\x8dI\\xe1\\xea\\xfb\\xcf\\x1d\\xe1\\xed\\x05\\xa1\\xbf\\x16\\xf5\\r)zp$\\xe9\\xd8z\\x9a\\xd3\\xb3\\xc8\\x17\\x96\\xfa\\xbe\\xe9\\xc4\\xec\\\\\\n\\x11\\xadl\\xad&=\\xb2>\\xb4n\\r\\xf6yp\\xdf\\x17\\xb4}\\xfb\\xc4+\\xc2u.\\x10\\xc9\\xd0%$\\x112\\x0c\\xe4W\\xa4\\x9e\\xab\\x0c\\xb1\\xbf\\xcd\\xe8\\xc2\\x86\\x8f:\\x9a\\xb8\\x97\\xd7\\x1c\\x9b\\xc4-d%l\\xbb\\x1d5\\x14\\x9f\\xa8\\xaa\\x9b\\x9e\\x1fse\\x9b\\x9be\\xa0\\x0f\\xd5\\xba~b\\xba2\\xecn\\xde\\x99P\\x92z:j\\xa7\\x89\\xdb\\x9b\\x06T\\xe5\\xc5\\xc8o\\x07\\xcb\\xe2\\xca\\x8f\\xc2\\xbc\\xfe<\\xfe\\xa4\\xd37e\\xa7O\\xc6\\xcc,\\x8d\\xca~5\\xe3\\xff\\x00\\x0cR5p\\xdd\\xd7\\x8a\\xbbx\\xd2\\x95\\x94\\x906\\x07\\xfd\\x9aq\\x03\\xd8\\x9a\\xd0H\\xcdn\\x982$f\\x01\\xa4\"zS\\xc9=z\\xfc\\xa9\\x0c\\x1f\\x8d?\\x026\\x08\\xa4m\\x1e\\xb4\\xcf\\x0c\\x1d\\xcf\\xd6\\x88A\\x1b\\x19\\x8fJi0z\\xfc\\xa8\\xd2`\\xdc\\xcb`\\xe0>\\xf1JW\\xdb\\xe1A\\x90I\\x91\\xf5\\xa7\\x08\\xe8>\\x95\\x10\\xe3\\xfcC\\x03\\xb5x(bL\\nT\\xb6\\xa2?\\x9d!\\x00N\\xa5m\\xd2\\x8a\\xa3\\xb93\\xbcqjn\\xee5yJA\\x15\\x93\\xe3\\x8f\\x1f\\xba\\xa4\\x89\\xf2\\xba\\x933\\xefZ\\x9egu\\x9dl&\\tu2\\x0c\\xe3\\x06\\xbds\\xcb\\xd6\\xfcG\\x90|n\\x18\\xd8\\xb8\\xe2\\xaayN\\xbb\\xd5IJ\\x15\\x01\\xb0:H\\xf3z\\xd2\\xa9%\\x92#\\xaeU\\x99\\x9e\\x13\\xcc\\x17\\xd6q\\xf7w\\xdc\\x1e\\x9a\\xabJ\\xcf4\\xdd>\\xb4\\xae\\xe0\\xebTu5\\x82\\xb6p\\x19\\x04I\\x1f\\x98\\x11\\x04U\\xdd\\x92\\xc7\\xb1\\xeb\\x15nX\\xe0\\xe5thFrq\\xec\\xde\\xdaq\\xc4\\xb9\\x1a\\xca\\xd1\\x18\\x94\\x99\\xfeug\\xfd\\xe4M\\x88\\x9b7^qQ\\x92\\xb4\\r\\xfd+\\x17la#\\xfdjB\\xd7\\xe5;\\x8fz/\\x06)*q;|\\x93\\xb4\\xcb>!\\xce\\xbc]\\xd0\\xa0\\x9b\\x82\\x80z\\'\\x1f\\xb5d\\xef.\\xee\\xaf\\\\Q\\xb8}n\\x1d\\xcc\\xaa\\xa6<5\\xec\\x0cT%\\xb6\\xa2\\xa0\\xd2\\x13\\xa9\\xc5\\x18JS\\x92h,X\\xe1\\xe3\\x1a:s\\x93\\\\\\xb2\\xef\\x95\\x84p\\xf7\\x84\\xedp\\x7f\\xe9\\x15tS>\\xbd\\xe8\\\\\\'\\x84\\xaf\\x86\\xf0`\\x87Q\\xa5\\xff\\x00\\x18\\xa9pq\\xe6\\x1b| }h\\x9aOI\\x8e\\x95\\x0bv\\xcc\\xb6\\xd3v\\x86\\x91\\xf2\\xa6)0d}h\\xa5$|;\\x9an\\x91\\xd2\\x89\\x18#\\x8d\\xf6\\xefI\\xb7@h\\x85=b=\\xa9\\x84\\x10v\\x9a\\xe3\\x8b\\x16\\x9aR\\xff\\x000\\x9a\\xb0b\\xcc+q\\x03\\xd4R\\xdb70@\\xabV\\x10 c\\xde\\xb2\\xb2\\xe6k\\xa2\\xfe<i\\x83o\\x86%c\\xb0\\xf6\\xa6\\xbd\\xc0\\xbc\\xb2\\x06*\\xe5\\x96u\\x0cy=h\\xe5\\x0b\\t:3\\x8c\\x88\\xac\\xff\\x00\\xc4\\xce/\\x86[x\\xa2\\xd7\\' \\xe7>\\x10\\xbb[\\xa6\\x9f\\t\\x94\\xa9\\x1aN:\\x8a\\xba\\xfb:a\\x0fZ\\xbc\\x95\\x15 x\\xa4H\\x12:`\\xf6\\xad\\'2p\\xa3}b\\xb5\\x1056\\xadC\\x1d\\x0e\\rgyH\\x8e\\r|\\xf5\\xbb\\xa4\\xb7\\xe2()\\x0e\\x02@\\xcf\\xe9>\\xfb\\x89\\xad\\x1d>\\xa3\\xe5{_e,\\xf8\\\\#h\\xda\\xdf\\xfd\\x99\\xf0n`>+\\xcd\\xb2n\\x15\\xfe`V\\x85\\xfc\\xfa\\xfcj\\x9d\\xcf\\xb0\\x1b\\xf5y\\xb8]\\xcb\\x90v\\nHX\\xf6\\xc5t+;\\xad\\r\\xa0<\\x80\\x82c\\xfe\\xf5\\x06>\\n\\x15\\xa5\\xb1-<\\x12Ye\\xa5OV\\xee\\xf4\\x11\\xf5\\xab{\\x9a\\xe9\\x94VI\\xc7\\xa3\\x8a\\xa7\\xec\\'\\x9cR\\xa0\\x9bV\\x90\\xf0\\xef\\xe1*\\x7fj(\\xfb\\x0f\\xe78O\\x8a\\xc7\\x85=\\xc0\\x03\\xdf5\\xde[\\x0f\\xa0\\x80\\x9bn \\x15\\xd0\"\\xf8\\xc1\\x1f\\xef\\xa5\\n\\xe9\\xb5\\x14\\xa9K\\xb2\\xbaR\\x88\\xfc\\xcf_\\xf4\\xa9\\xb7\\xc9.\\xce\\xf9\\xf2?g\\x13o\\xecB\\xf5\\t\\xd5\\xc5\\xf8\\x93V\\xe9\\xdc\\xa7\\xc4\\x1f\\xca\\xac\\xac9\\x13\\x80\\xf0y,%\\xde!r\\x9d\\xf4\\x08I\\xf75\\xb8\\xe2\\x0e5nL\\xb5d\\x85L\\x10\\\\.\\x9a\\xa3\\xe2.=p\\xd1\\xd2\\x97\\xddd\\x02ec\\xc0dO\\xd4\\x8a\\xab,\\xd3~\\xc7[\\xa5\\xcc\\x99\\x8b\\xe6\\x17\\x10R\\x94\\xa1(BB\\xe1-\\xb5\\x94#\\xd2\\x7fR\\xbb\\x9e\\x9f\\x1a\\xcf`\\xd5\\xe7\\x11\\xd5p\\xeaR\\xd2\\x92\\xe0$\\x84\\xa9)\\xd2\\x81\\xd4\\xa5\\x03\\xb7s\\xd6\\xa1\\x1b\\'vR#\\xe1RG\"K\\x96>\\xd6W\\x18\\x8c\\xd3\\x0e\\xc3\\xb5Z\\x1e\\x1a\\xe9\\xce\\x98\\x8a\\x8e\\xe7\\x0eu\\'\\xf2\\xd3\\xfc\\xb1b\\xed\\x97\\xd1\\x00\\x93\\xd6\\x86B\\xa7\\x00\\xc5M6n\\'t\\x9a\\x11d\\xa7\\x051\\xf0\\xa9\\x14\\xd3\\xe8W\\x12\\xd2\\xdd\\xfd%2zU\\xab\\x17\\x01Y\\x1b\\xd5\\x08\\xdf\\x19\\x9a2\\x1eP\\xceN{V~L\\nE\\x98e\\xdaj\\x98\\xbb\\x8e\\xe6\\xa6\\xb7v\\x85\\x01\\xae>5\\x92E\\xea\\x92H$\\xcf\\xadIM\\xe9?\\xd0\\xd6t\\xf4\\xcc\\xb9\\x1c\\xf1}\\x9aw\\x8bN4\\xb48@II\\x04\\x9a\\xc1\\xf2\\xd7\\x10c\\x8aq\\xab\\xb5\\xda\\xa7\\xf0\\x9a)a@\\xc4\\xac\\xa6g\\xdfz\\x9d{z\\xe5\\xcb\\x7fvajAVVGD\\xff\\x00Z\\xa9\\xe5\\xcbo\\xb8s\\x1f\\x10\\x08\\x80\\xcb\\xeam\\xd1\\xdat\\xc1\\xfa\\x8f\\xadX\\xd2i\\xf67\\x91\\xf6\\x88u9\\xb7Gb\\xe8\\xeb\\x96-\\xa1%\\xb5\"\\xe9\\xfb\\x18\\xc8\\xf0\\xce\\xb6\\xd5\\xe8\\xa4\\x1d\\xea\\xe9\\x8b\\x11r\\xd8>7\\x08\\xb8\\\\\\t*B\\x99\\xaa\\x8e\\x16\\xf7\\x8a\\x80\\xa4)p7#\\xcfWM\\x16\\x9c\\t\\xc5\\x93\\xb0\\x7f*\\xc2\\x9b>\\xb5~\\xcc\\xa6\\xdad\\xfb^\\x04\\xeb\\x8e\\x04\\xb3e\\xc3\\x16\\x01\\xfc\\xc3\\x8ah\\x03\\xe0i\\xf7\\\\\\xb9r\\xc8\\xd4\\xf5\\xaf\\x05@\\xdc\\x93\\xc5\\x03\\x87\\xe4&\\x80\\xd36\\xfad\\xf0\\xebWD\\xc9\\x8b\\xd2\\x9c\\xd2*\\xc6\\xd4\\x99O\\x0e\\xb1`\\x11\\xaa]\\xbd\\'\\x1d\\xa9\\x9dWG);+\\x96\\xe7\\xdc\\x13\\xa5W\\xfc.\\xdd\\xcc\\xff\\x00\\xe1-J\\xd5\\xf0*\\xfd\\xeb?~M\\xd1.\\x16\\xdf\\xbd)\\xff\\x006\\xf1Z\\x1bO\\xae\\x9a\\xd0\\xbc\\x1am\\x7f\\x86\\xfd\\x9br %\\x86\\x8b\\x87\\xe7T\\\\Um\"V\\xfa\\x89\\x8f\\xd4\\xf9\\xdf=\\x12*\\xab\\xbfe\\x88\\xbeL\\x8b\\xef1o\\xc4\\x19z\\xfd\\xc2\\xb4B\\x81ZQ\\xe5\\x88\\xc0H\\xec\\x0fZ\\xb9\\xb4\\x1c:\\xfc\\x0f\\xba\\\\\\xb4\\xb9\\xfd$\\xc1\\xf9\\x1a\\xcf\\xf1\\xbdE\\xc4\\x15%zW\\xe6\\xf3`\\xa8\\x7f\\x14~\\x91\\xd8Vr\\xfd\\xc1`\\xed\\xbb\\x8a%,\\xb8\\xf0eG\\xf8\\x14\\xa3\\t?8\\x1f\\x1a\\x13\\xd3|\\xf5%*d\\xd1\\xcd\\xf1\\xf1\\\\\\x1d1\\xce\\x0c\\x8d\\x05a`,\\x1f\\xc9\\xa4\\xccw\\x9d\\xaa+\\x9c:#[s\\xedY\\xde\\x17\\xc7\\xee\\xec\\x96\\x96\\xee\\\\S\\xb6\\xe0\\xc1\\n\\xc9E_9\\xccV\\x89Y\\x1e*]\\x1d\\x14+:xs\\xe3\\x7fe\\xc8\\xe5\\x84\\x88\\xee\\xf0\\xd4\\xef\\x11\\xdaEBW\\r\\x04\\xe0\\x8f\\x8dM\\x7f\\x98\\xedt\\xfe\\x1e\\xfe\\xf3Un\\xf1\\xa4\\xadr\\x80\\x14;\\xc5K\\x8e\\x19\\xdf\\xa1\\\\\\xb1}\\x94\\xba:\\x88\\x9f\\\\S\\x83S\\x81\\xbf\\xa1\\xa3\\xb6\\x8c\\x8dI?\\xbdNf\\xd8Fs\\xea+ZN\\x91\\x9f\\x15d&\\xed\\t\\xc0\\x04T\\xe6l\\x15\\x13\\x1a\\xbd\\xb1V6\\xf6g\\x12:U\\xd5\\xad\\x98$H\\xc0\\x15\\x9b\\x97QE\\xc8c\\xf6\\xcco\\x11d\\xd9\\xa9.\\xad%,\\xbc\\x80\\xd2\\x95\\xfc+\\x99L\\xfa\\x19#\\xde;\\xd3l\\x9a\\x0c\\xbc\\x87\\xceT\\x9cyFk\\xa0\\xbd\\xc2Z\\xbd\\xb5q\\x87P\\x95!\\xc1\\x04\\x11\\x8a\\xc1\\xbb\\xc3\\xae\\xb8%\\xd1d\\x85-\\xa1\\x84\\x85\\x9e\\x9e\\x8a\\xff\\x00Z}&\\xa1M8\\xfb#\\xcf\\x8e\\xa9\\x9b\\xce\\x0e\\x84\\\\\\xa5.1\\xa6\\xe1C}\\x0e\\x06\\x9c\\x1f\\xcbj\\xd0[9\\xa0ir\\xea\\xfa\\xdb\\xff\\x00\\x95e\\xe3$\\x1fq\\xd2\\xb9s\\x17\\xac\\xa5iYR\\xad\\xdc\\xea\\xa9)?1\\x8a\\xd3\\xf0\\xfeg\\xe2v\\xc8\\x1e\\x1d\\xe2\\xd7\\x04\\x08\\x04+\\xea\\r\\\\m\\x15\\x1c\\x1b\\xe8\\xde\\xb1wb!K\\xe2\\x9c\\xbc\\x089\\xfb\\xd5\\x9b\\x89\\x8f\\xa5z\\xfe\\xe6\\xd0\\x04\\xe9\\xe2\\\\\\xbeJL\\x9f\\xbaX,\\x9f\\xdb5\\x9do\\x9e8\\xc2\\x0c\\x17-\\xd7\\x93:\\xdb\\xf4\\xf64\\xd5s\\x87\\x18sPm\\xabt\\xf9r\\xa4\\xc0\\xf8\\xec+\\xbeX\\xd5X\\x16)w_\\xe3\\xfd\\x07\\xb9x:\\x85\\xa1\\x97\\xaf\\xee\\x0f\\xfe\\x9e\\xd7\\xc3\\x1e\\xf2ES\\xbe\\xc3\\xcc\\xa1J[M\\xf0\\xf4\\x8f\\xf3^p:\\xe9\\xf5\\xec\\r2\\xf3\\x8dq\\xc7\\xca\\x10_\\tJ\\xcc`\\x81\\x1fSTO\\xda\\xdd\\xdd8\\x14\\xf7\\x8a\\xf0\\xd4$\\xe5Q\\xde*\\x17\\xb7\\xbb&\\x8aiQ\\x03\\x89\\x96\\x9c*M\\xb8R\\xc1>g\\x0eJ\\xfdj\\x8f\\x98\\xb82\\xf8\\xc7\\xdc\\xec\\x12H?yb\\xe6\\xe5C>\\x1a\\x1bX^\\x9fB\\xa2\\x90#\\xd6\\xb6\\x9c3\\x95\\xf8\\x85\\xd9I,\\xaa\\xdd\\xb4\\x92T\\xea\\xd6\\x04\\x83\\xd0\\n\\xd1\\xb1\\xcal\\xb4?\\x19\\xd0\\x12rR\\xd8\\xdf\\xdc\\x9a\\x86z\\xecX\\x1aI\\xdb_D\\x91\\xc3)\\xdd\\xae\\x0el,_}\\xed-\\xa3S\\x8a3\\x00T\\xbf\\xee\\xcd\\xd9\\xfc\\xc0\\x02}+\\xa5#\\x87\\xd9\\xd9\\xa3M\\xabA\\x07\\xa9\\xeaj3\\xba\\x131\\x8a\\xa3\\xfdFo\\xc1pL\\xb4\\xeb\\xd9\\x83G(\\xbcr\\xb5i\\xa3\\x0eSl\\x0c\\xaa\\xb5.\\xbd\\x1b`\\xd4\\x17.@TO\\xd6\\xbb\\xf1Y\\xe5\\xece\\x86\\x08\\xc8\\xda\\xec*\\xc5\\xb1\\nLbk\\xd5\\xea\\xd9\\xc9\\xd1Z\\x1e\\xcb{a\\x91\\xea&\\xaem\\xc0\\x1b\\n\\xf5z\\xb0\\xf3y2\\xfa,\"\\x12\\x08\\xebQ.\\xed\\xda\\xbah&\\xe1\\xb4\\xb8\\x98;\\x8a\\xf5z\\xa9\\xc1\\xd4\\xad\\x0c\\xf917l6\\xcd\\xc2\\xd0\\xdat\\xa4t\\xa0\\x86\\x91$\\x84\\x80gp+\\xd5\\xea\\xf4]\\xc1\\x7fc1v\\xc9V\\xfeP\\xa8\\x91\\xb7Z\\x9e\\x92R\\x8c\\x13\\xe6L\\x1c\\xee+\\xd5\\xea\\xa9\\x92O\\xec\\xb3\\x08\\xab\\\\\\x04iGy\\xc9\\x02Mi8=\\xb3N\\xae\\\\@Q\\x1bI\\xafW\\xaa\\x86_\\x16\\xc9\\xcd\\x0e\\xa2\\x90Bp\\x06\\xd1Q\\x1dQ \\x93\\x9cW\\xab\\xd5\\x9a\\xbb\\x7f\\xf7\\xd0\\xec\\xab\\xba$\\x1cv\\xaa{\\xa7\\x96\\x01\\x85\\x1a\\xf5z\\xae\\xe1Kp\\xcc\\xaey\\xd5\\xf9\\xbc\\xc7j\\x82\\xa7W?\\x98\\xd7\\xab\\xd5\\xa9\\x8d\"#\\xff\\xd9'"
      ]
     },
     "execution_count": 63,
     "metadata": {},
     "output_type": "execute_result"
    }
   ],
   "source": [
    "img_link.content"
   ]
  },
  {
   "cell_type": "code",
   "execution_count": 65,
   "metadata": {},
   "outputs": [
    {
     "data": {
      "text/plain": [
       "'//upload.wikimedia.org/wikipedia/commons/thumb/4/42/Os_d%27Ishango_IRSNB.JPG/140px-Os_d%27Ishango_IRSNB.JPG'"
      ]
     },
     "execution_count": 65,
     "metadata": {},
     "output_type": "execute_result"
    }
   ],
   "source": [
    "img1_src"
   ]
  },
  {
   "cell_type": "code",
   "execution_count": null,
   "metadata": {},
   "outputs": [],
   "source": []
  },
  {
   "cell_type": "markdown",
   "metadata": {},
   "source": [
    "<img src=\"http://upload.wikimedia.org/wikipedia/commons/thumb/4/42/Os_d%27Ishango_IRSNB.JPG/140px-Os_d%27Ishango_IRSNB.JPG\">"
   ]
  },
  {
   "cell_type": "code",
   "execution_count": null,
   "metadata": {},
   "outputs": [],
   "source": []
  },
  {
   "cell_type": "code",
   "execution_count": null,
   "metadata": {},
   "outputs": [],
   "source": []
  },
  {
   "cell_type": "code",
   "execution_count": null,
   "metadata": {},
   "outputs": [],
   "source": []
  },
  {
   "cell_type": "code",
   "execution_count": null,
   "metadata": {},
   "outputs": [],
   "source": []
  },
  {
   "cell_type": "code",
   "execution_count": null,
   "metadata": {},
   "outputs": [],
   "source": []
  },
  {
   "cell_type": "code",
   "execution_count": null,
   "metadata": {},
   "outputs": [],
   "source": []
  },
  {
   "cell_type": "code",
   "execution_count": 66,
   "metadata": {},
   "outputs": [],
   "source": [
    "base_url = \"https://books.toscrape.com/catalogue/page-{}.html\""
   ]
  },
  {
   "cell_type": "code",
   "execution_count": 69,
   "metadata": {},
   "outputs": [],
   "source": [
    "res = requests.get(base_url.format(\"1\"))"
   ]
  },
  {
   "cell_type": "code",
   "execution_count": 70,
   "metadata": {},
   "outputs": [],
   "source": [
    "data = bs4.BeautifulSoup(res.text,'lxml')"
   ]
  },
  {
   "cell_type": "code",
   "execution_count": 73,
   "metadata": {},
   "outputs": [
    {
     "data": {
      "text/plain": [
       "[<article class=\"product_pod\">\n",
       " <div class=\"image_container\">\n",
       " <a href=\"a-light-in-the-attic_1000/index.html\"><img alt=\"A Light in the Attic\" class=\"thumbnail\" src=\"../media/cache/2c/da/2cdad67c44b002e7ead0cc35693c0e8b.jpg\"/></a>\n",
       " </div>\n",
       " <p class=\"star-rating Three\">\n",
       " <i class=\"icon-star\"></i>\n",
       " <i class=\"icon-star\"></i>\n",
       " <i class=\"icon-star\"></i>\n",
       " <i class=\"icon-star\"></i>\n",
       " <i class=\"icon-star\"></i>\n",
       " </p>\n",
       " <h3><a href=\"a-light-in-the-attic_1000/index.html\" title=\"A Light in the Attic\">A Light in the ...</a></h3>\n",
       " <div class=\"product_price\">\n",
       " <p class=\"price_color\">Â£51.77</p>\n",
       " <p class=\"instock availability\">\n",
       " <i class=\"icon-ok\"></i>\n",
       "     \n",
       "         In stock\n",
       "     \n",
       " </p>\n",
       " <form>\n",
       " <button class=\"btn btn-primary btn-block\" data-loading-text=\"Adding...\" type=\"submit\">Add to basket</button>\n",
       " </form>\n",
       " </div>\n",
       " </article>,\n",
       " <article class=\"product_pod\">\n",
       " <div class=\"image_container\">\n",
       " <a href=\"tipping-the-velvet_999/index.html\"><img alt=\"Tipping the Velvet\" class=\"thumbnail\" src=\"../media/cache/26/0c/260c6ae16bce31c8f8c95daddd9f4a1c.jpg\"/></a>\n",
       " </div>\n",
       " <p class=\"star-rating One\">\n",
       " <i class=\"icon-star\"></i>\n",
       " <i class=\"icon-star\"></i>\n",
       " <i class=\"icon-star\"></i>\n",
       " <i class=\"icon-star\"></i>\n",
       " <i class=\"icon-star\"></i>\n",
       " </p>\n",
       " <h3><a href=\"tipping-the-velvet_999/index.html\" title=\"Tipping the Velvet\">Tipping the Velvet</a></h3>\n",
       " <div class=\"product_price\">\n",
       " <p class=\"price_color\">Â£53.74</p>\n",
       " <p class=\"instock availability\">\n",
       " <i class=\"icon-ok\"></i>\n",
       "     \n",
       "         In stock\n",
       "     \n",
       " </p>\n",
       " <form>\n",
       " <button class=\"btn btn-primary btn-block\" data-loading-text=\"Adding...\" type=\"submit\">Add to basket</button>\n",
       " </form>\n",
       " </div>\n",
       " </article>,\n",
       " <article class=\"product_pod\">\n",
       " <div class=\"image_container\">\n",
       " <a href=\"soumission_998/index.html\"><img alt=\"Soumission\" class=\"thumbnail\" src=\"../media/cache/3e/ef/3eef99c9d9adef34639f510662022830.jpg\"/></a>\n",
       " </div>\n",
       " <p class=\"star-rating One\">\n",
       " <i class=\"icon-star\"></i>\n",
       " <i class=\"icon-star\"></i>\n",
       " <i class=\"icon-star\"></i>\n",
       " <i class=\"icon-star\"></i>\n",
       " <i class=\"icon-star\"></i>\n",
       " </p>\n",
       " <h3><a href=\"soumission_998/index.html\" title=\"Soumission\">Soumission</a></h3>\n",
       " <div class=\"product_price\">\n",
       " <p class=\"price_color\">Â£50.10</p>\n",
       " <p class=\"instock availability\">\n",
       " <i class=\"icon-ok\"></i>\n",
       "     \n",
       "         In stock\n",
       "     \n",
       " </p>\n",
       " <form>\n",
       " <button class=\"btn btn-primary btn-block\" data-loading-text=\"Adding...\" type=\"submit\">Add to basket</button>\n",
       " </form>\n",
       " </div>\n",
       " </article>,\n",
       " <article class=\"product_pod\">\n",
       " <div class=\"image_container\">\n",
       " <a href=\"sharp-objects_997/index.html\"><img alt=\"Sharp Objects\" class=\"thumbnail\" src=\"../media/cache/32/51/3251cf3a3412f53f339e42cac2134093.jpg\"/></a>\n",
       " </div>\n",
       " <p class=\"star-rating Four\">\n",
       " <i class=\"icon-star\"></i>\n",
       " <i class=\"icon-star\"></i>\n",
       " <i class=\"icon-star\"></i>\n",
       " <i class=\"icon-star\"></i>\n",
       " <i class=\"icon-star\"></i>\n",
       " </p>\n",
       " <h3><a href=\"sharp-objects_997/index.html\" title=\"Sharp Objects\">Sharp Objects</a></h3>\n",
       " <div class=\"product_price\">\n",
       " <p class=\"price_color\">Â£47.82</p>\n",
       " <p class=\"instock availability\">\n",
       " <i class=\"icon-ok\"></i>\n",
       "     \n",
       "         In stock\n",
       "     \n",
       " </p>\n",
       " <form>\n",
       " <button class=\"btn btn-primary btn-block\" data-loading-text=\"Adding...\" type=\"submit\">Add to basket</button>\n",
       " </form>\n",
       " </div>\n",
       " </article>,\n",
       " <article class=\"product_pod\">\n",
       " <div class=\"image_container\">\n",
       " <a href=\"sapiens-a-brief-history-of-humankind_996/index.html\"><img alt=\"Sapiens: A Brief History of Humankind\" class=\"thumbnail\" src=\"../media/cache/be/a5/bea5697f2534a2f86a3ef27b5a8c12a6.jpg\"/></a>\n",
       " </div>\n",
       " <p class=\"star-rating Five\">\n",
       " <i class=\"icon-star\"></i>\n",
       " <i class=\"icon-star\"></i>\n",
       " <i class=\"icon-star\"></i>\n",
       " <i class=\"icon-star\"></i>\n",
       " <i class=\"icon-star\"></i>\n",
       " </p>\n",
       " <h3><a href=\"sapiens-a-brief-history-of-humankind_996/index.html\" title=\"Sapiens: A Brief History of Humankind\">Sapiens: A Brief History ...</a></h3>\n",
       " <div class=\"product_price\">\n",
       " <p class=\"price_color\">Â£54.23</p>\n",
       " <p class=\"instock availability\">\n",
       " <i class=\"icon-ok\"></i>\n",
       "     \n",
       "         In stock\n",
       "     \n",
       " </p>\n",
       " <form>\n",
       " <button class=\"btn btn-primary btn-block\" data-loading-text=\"Adding...\" type=\"submit\">Add to basket</button>\n",
       " </form>\n",
       " </div>\n",
       " </article>,\n",
       " <article class=\"product_pod\">\n",
       " <div class=\"image_container\">\n",
       " <a href=\"the-requiem-red_995/index.html\"><img alt=\"The Requiem Red\" class=\"thumbnail\" src=\"../media/cache/68/33/68339b4c9bc034267e1da611ab3b34f8.jpg\"/></a>\n",
       " </div>\n",
       " <p class=\"star-rating One\">\n",
       " <i class=\"icon-star\"></i>\n",
       " <i class=\"icon-star\"></i>\n",
       " <i class=\"icon-star\"></i>\n",
       " <i class=\"icon-star\"></i>\n",
       " <i class=\"icon-star\"></i>\n",
       " </p>\n",
       " <h3><a href=\"the-requiem-red_995/index.html\" title=\"The Requiem Red\">The Requiem Red</a></h3>\n",
       " <div class=\"product_price\">\n",
       " <p class=\"price_color\">Â£22.65</p>\n",
       " <p class=\"instock availability\">\n",
       " <i class=\"icon-ok\"></i>\n",
       "     \n",
       "         In stock\n",
       "     \n",
       " </p>\n",
       " <form>\n",
       " <button class=\"btn btn-primary btn-block\" data-loading-text=\"Adding...\" type=\"submit\">Add to basket</button>\n",
       " </form>\n",
       " </div>\n",
       " </article>,\n",
       " <article class=\"product_pod\">\n",
       " <div class=\"image_container\">\n",
       " <a href=\"the-dirty-little-secrets-of-getting-your-dream-job_994/index.html\"><img alt=\"The Dirty Little Secrets of Getting Your Dream Job\" class=\"thumbnail\" src=\"../media/cache/92/27/92274a95b7c251fea59a2b8a78275ab4.jpg\"/></a>\n",
       " </div>\n",
       " <p class=\"star-rating Four\">\n",
       " <i class=\"icon-star\"></i>\n",
       " <i class=\"icon-star\"></i>\n",
       " <i class=\"icon-star\"></i>\n",
       " <i class=\"icon-star\"></i>\n",
       " <i class=\"icon-star\"></i>\n",
       " </p>\n",
       " <h3><a href=\"the-dirty-little-secrets-of-getting-your-dream-job_994/index.html\" title=\"The Dirty Little Secrets of Getting Your Dream Job\">The Dirty Little Secrets ...</a></h3>\n",
       " <div class=\"product_price\">\n",
       " <p class=\"price_color\">Â£33.34</p>\n",
       " <p class=\"instock availability\">\n",
       " <i class=\"icon-ok\"></i>\n",
       "     \n",
       "         In stock\n",
       "     \n",
       " </p>\n",
       " <form>\n",
       " <button class=\"btn btn-primary btn-block\" data-loading-text=\"Adding...\" type=\"submit\">Add to basket</button>\n",
       " </form>\n",
       " </div>\n",
       " </article>,\n",
       " <article class=\"product_pod\">\n",
       " <div class=\"image_container\">\n",
       " <a href=\"the-coming-woman-a-novel-based-on-the-life-of-the-infamous-feminist-victoria-woodhull_993/index.html\"><img alt=\"The Coming Woman: A Novel Based on the Life of the Infamous Feminist, Victoria Woodhull\" class=\"thumbnail\" src=\"../media/cache/3d/54/3d54940e57e662c4dd1f3ff00c78cc64.jpg\"/></a>\n",
       " </div>\n",
       " <p class=\"star-rating Three\">\n",
       " <i class=\"icon-star\"></i>\n",
       " <i class=\"icon-star\"></i>\n",
       " <i class=\"icon-star\"></i>\n",
       " <i class=\"icon-star\"></i>\n",
       " <i class=\"icon-star\"></i>\n",
       " </p>\n",
       " <h3><a href=\"the-coming-woman-a-novel-based-on-the-life-of-the-infamous-feminist-victoria-woodhull_993/index.html\" title=\"The Coming Woman: A Novel Based on the Life of the Infamous Feminist, Victoria Woodhull\">The Coming Woman: A ...</a></h3>\n",
       " <div class=\"product_price\">\n",
       " <p class=\"price_color\">Â£17.93</p>\n",
       " <p class=\"instock availability\">\n",
       " <i class=\"icon-ok\"></i>\n",
       "     \n",
       "         In stock\n",
       "     \n",
       " </p>\n",
       " <form>\n",
       " <button class=\"btn btn-primary btn-block\" data-loading-text=\"Adding...\" type=\"submit\">Add to basket</button>\n",
       " </form>\n",
       " </div>\n",
       " </article>,\n",
       " <article class=\"product_pod\">\n",
       " <div class=\"image_container\">\n",
       " <a href=\"the-boys-in-the-boat-nine-americans-and-their-epic-quest-for-gold-at-the-1936-berlin-olympics_992/index.html\"><img alt=\"The Boys in the Boat: Nine Americans and Their Epic Quest for Gold at the 1936 Berlin Olympics\" class=\"thumbnail\" src=\"../media/cache/66/88/66883b91f6804b2323c8369331cb7dd1.jpg\"/></a>\n",
       " </div>\n",
       " <p class=\"star-rating Four\">\n",
       " <i class=\"icon-star\"></i>\n",
       " <i class=\"icon-star\"></i>\n",
       " <i class=\"icon-star\"></i>\n",
       " <i class=\"icon-star\"></i>\n",
       " <i class=\"icon-star\"></i>\n",
       " </p>\n",
       " <h3><a href=\"the-boys-in-the-boat-nine-americans-and-their-epic-quest-for-gold-at-the-1936-berlin-olympics_992/index.html\" title=\"The Boys in the Boat: Nine Americans and Their Epic Quest for Gold at the 1936 Berlin Olympics\">The Boys in the ...</a></h3>\n",
       " <div class=\"product_price\">\n",
       " <p class=\"price_color\">Â£22.60</p>\n",
       " <p class=\"instock availability\">\n",
       " <i class=\"icon-ok\"></i>\n",
       "     \n",
       "         In stock\n",
       "     \n",
       " </p>\n",
       " <form>\n",
       " <button class=\"btn btn-primary btn-block\" data-loading-text=\"Adding...\" type=\"submit\">Add to basket</button>\n",
       " </form>\n",
       " </div>\n",
       " </article>,\n",
       " <article class=\"product_pod\">\n",
       " <div class=\"image_container\">\n",
       " <a href=\"the-black-maria_991/index.html\"><img alt=\"The Black Maria\" class=\"thumbnail\" src=\"../media/cache/58/46/5846057e28022268153beff6d352b06c.jpg\"/></a>\n",
       " </div>\n",
       " <p class=\"star-rating One\">\n",
       " <i class=\"icon-star\"></i>\n",
       " <i class=\"icon-star\"></i>\n",
       " <i class=\"icon-star\"></i>\n",
       " <i class=\"icon-star\"></i>\n",
       " <i class=\"icon-star\"></i>\n",
       " </p>\n",
       " <h3><a href=\"the-black-maria_991/index.html\" title=\"The Black Maria\">The Black Maria</a></h3>\n",
       " <div class=\"product_price\">\n",
       " <p class=\"price_color\">Â£52.15</p>\n",
       " <p class=\"instock availability\">\n",
       " <i class=\"icon-ok\"></i>\n",
       "     \n",
       "         In stock\n",
       "     \n",
       " </p>\n",
       " <form>\n",
       " <button class=\"btn btn-primary btn-block\" data-loading-text=\"Adding...\" type=\"submit\">Add to basket</button>\n",
       " </form>\n",
       " </div>\n",
       " </article>,\n",
       " <article class=\"product_pod\">\n",
       " <div class=\"image_container\">\n",
       " <a href=\"starving-hearts-triangular-trade-trilogy-1_990/index.html\"><img alt=\"Starving Hearts (Triangular Trade Trilogy, #1)\" class=\"thumbnail\" src=\"../media/cache/be/f4/bef44da28c98f905a3ebec0b87be8530.jpg\"/></a>\n",
       " </div>\n",
       " <p class=\"star-rating Two\">\n",
       " <i class=\"icon-star\"></i>\n",
       " <i class=\"icon-star\"></i>\n",
       " <i class=\"icon-star\"></i>\n",
       " <i class=\"icon-star\"></i>\n",
       " <i class=\"icon-star\"></i>\n",
       " </p>\n",
       " <h3><a href=\"starving-hearts-triangular-trade-trilogy-1_990/index.html\" title=\"Starving Hearts (Triangular Trade Trilogy, #1)\">Starving Hearts (Triangular Trade ...</a></h3>\n",
       " <div class=\"product_price\">\n",
       " <p class=\"price_color\">Â£13.99</p>\n",
       " <p class=\"instock availability\">\n",
       " <i class=\"icon-ok\"></i>\n",
       "     \n",
       "         In stock\n",
       "     \n",
       " </p>\n",
       " <form>\n",
       " <button class=\"btn btn-primary btn-block\" data-loading-text=\"Adding...\" type=\"submit\">Add to basket</button>\n",
       " </form>\n",
       " </div>\n",
       " </article>,\n",
       " <article class=\"product_pod\">\n",
       " <div class=\"image_container\">\n",
       " <a href=\"shakespeares-sonnets_989/index.html\"><img alt=\"Shakespeare's Sonnets\" class=\"thumbnail\" src=\"../media/cache/10/48/1048f63d3b5061cd2f424d20b3f9b666.jpg\"/></a>\n",
       " </div>\n",
       " <p class=\"star-rating Four\">\n",
       " <i class=\"icon-star\"></i>\n",
       " <i class=\"icon-star\"></i>\n",
       " <i class=\"icon-star\"></i>\n",
       " <i class=\"icon-star\"></i>\n",
       " <i class=\"icon-star\"></i>\n",
       " </p>\n",
       " <h3><a href=\"shakespeares-sonnets_989/index.html\" title=\"Shakespeare's Sonnets\">Shakespeare's Sonnets</a></h3>\n",
       " <div class=\"product_price\">\n",
       " <p class=\"price_color\">Â£20.66</p>\n",
       " <p class=\"instock availability\">\n",
       " <i class=\"icon-ok\"></i>\n",
       "     \n",
       "         In stock\n",
       "     \n",
       " </p>\n",
       " <form>\n",
       " <button class=\"btn btn-primary btn-block\" data-loading-text=\"Adding...\" type=\"submit\">Add to basket</button>\n",
       " </form>\n",
       " </div>\n",
       " </article>,\n",
       " <article class=\"product_pod\">\n",
       " <div class=\"image_container\">\n",
       " <a href=\"set-me-free_988/index.html\"><img alt=\"Set Me Free\" class=\"thumbnail\" src=\"../media/cache/5b/88/5b88c52633f53cacf162c15f4f823153.jpg\"/></a>\n",
       " </div>\n",
       " <p class=\"star-rating Five\">\n",
       " <i class=\"icon-star\"></i>\n",
       " <i class=\"icon-star\"></i>\n",
       " <i class=\"icon-star\"></i>\n",
       " <i class=\"icon-star\"></i>\n",
       " <i class=\"icon-star\"></i>\n",
       " </p>\n",
       " <h3><a href=\"set-me-free_988/index.html\" title=\"Set Me Free\">Set Me Free</a></h3>\n",
       " <div class=\"product_price\">\n",
       " <p class=\"price_color\">Â£17.46</p>\n",
       " <p class=\"instock availability\">\n",
       " <i class=\"icon-ok\"></i>\n",
       "     \n",
       "         In stock\n",
       "     \n",
       " </p>\n",
       " <form>\n",
       " <button class=\"btn btn-primary btn-block\" data-loading-text=\"Adding...\" type=\"submit\">Add to basket</button>\n",
       " </form>\n",
       " </div>\n",
       " </article>,\n",
       " <article class=\"product_pod\">\n",
       " <div class=\"image_container\">\n",
       " <a href=\"scott-pilgrims-precious-little-life-scott-pilgrim-1_987/index.html\"><img alt=\"Scott Pilgrim's Precious Little Life (Scott Pilgrim #1)\" class=\"thumbnail\" src=\"../media/cache/94/b1/94b1b8b244bce9677c2f29ccc890d4d2.jpg\"/></a>\n",
       " </div>\n",
       " <p class=\"star-rating Five\">\n",
       " <i class=\"icon-star\"></i>\n",
       " <i class=\"icon-star\"></i>\n",
       " <i class=\"icon-star\"></i>\n",
       " <i class=\"icon-star\"></i>\n",
       " <i class=\"icon-star\"></i>\n",
       " </p>\n",
       " <h3><a href=\"scott-pilgrims-precious-little-life-scott-pilgrim-1_987/index.html\" title=\"Scott Pilgrim's Precious Little Life (Scott Pilgrim #1)\">Scott Pilgrim's Precious Little ...</a></h3>\n",
       " <div class=\"product_price\">\n",
       " <p class=\"price_color\">Â£52.29</p>\n",
       " <p class=\"instock availability\">\n",
       " <i class=\"icon-ok\"></i>\n",
       "     \n",
       "         In stock\n",
       "     \n",
       " </p>\n",
       " <form>\n",
       " <button class=\"btn btn-primary btn-block\" data-loading-text=\"Adding...\" type=\"submit\">Add to basket</button>\n",
       " </form>\n",
       " </div>\n",
       " </article>,\n",
       " <article class=\"product_pod\">\n",
       " <div class=\"image_container\">\n",
       " <a href=\"rip-it-up-and-start-again_986/index.html\"><img alt=\"Rip it Up and Start Again\" class=\"thumbnail\" src=\"../media/cache/81/c4/81c4a973364e17d01f217e1188253d5e.jpg\"/></a>\n",
       " </div>\n",
       " <p class=\"star-rating Five\">\n",
       " <i class=\"icon-star\"></i>\n",
       " <i class=\"icon-star\"></i>\n",
       " <i class=\"icon-star\"></i>\n",
       " <i class=\"icon-star\"></i>\n",
       " <i class=\"icon-star\"></i>\n",
       " </p>\n",
       " <h3><a href=\"rip-it-up-and-start-again_986/index.html\" title=\"Rip it Up and Start Again\">Rip it Up and ...</a></h3>\n",
       " <div class=\"product_price\">\n",
       " <p class=\"price_color\">Â£35.02</p>\n",
       " <p class=\"instock availability\">\n",
       " <i class=\"icon-ok\"></i>\n",
       "     \n",
       "         In stock\n",
       "     \n",
       " </p>\n",
       " <form>\n",
       " <button class=\"btn btn-primary btn-block\" data-loading-text=\"Adding...\" type=\"submit\">Add to basket</button>\n",
       " </form>\n",
       " </div>\n",
       " </article>,\n",
       " <article class=\"product_pod\">\n",
       " <div class=\"image_container\">\n",
       " <a href=\"our-band-could-be-your-life-scenes-from-the-american-indie-underground-1981-1991_985/index.html\"><img alt=\"Our Band Could Be Your Life: Scenes from the American Indie Underground, 1981-1991\" class=\"thumbnail\" src=\"../media/cache/54/60/54607fe8945897cdcced0044103b10b6.jpg\"/></a>\n",
       " </div>\n",
       " <p class=\"star-rating Three\">\n",
       " <i class=\"icon-star\"></i>\n",
       " <i class=\"icon-star\"></i>\n",
       " <i class=\"icon-star\"></i>\n",
       " <i class=\"icon-star\"></i>\n",
       " <i class=\"icon-star\"></i>\n",
       " </p>\n",
       " <h3><a href=\"our-band-could-be-your-life-scenes-from-the-american-indie-underground-1981-1991_985/index.html\" title=\"Our Band Could Be Your Life: Scenes from the American Indie Underground, 1981-1991\">Our Band Could Be ...</a></h3>\n",
       " <div class=\"product_price\">\n",
       " <p class=\"price_color\">Â£57.25</p>\n",
       " <p class=\"instock availability\">\n",
       " <i class=\"icon-ok\"></i>\n",
       "     \n",
       "         In stock\n",
       "     \n",
       " </p>\n",
       " <form>\n",
       " <button class=\"btn btn-primary btn-block\" data-loading-text=\"Adding...\" type=\"submit\">Add to basket</button>\n",
       " </form>\n",
       " </div>\n",
       " </article>,\n",
       " <article class=\"product_pod\">\n",
       " <div class=\"image_container\">\n",
       " <a href=\"olio_984/index.html\"><img alt=\"Olio\" class=\"thumbnail\" src=\"../media/cache/55/33/553310a7162dfbc2c6d19a84da0df9e1.jpg\"/></a>\n",
       " </div>\n",
       " <p class=\"star-rating One\">\n",
       " <i class=\"icon-star\"></i>\n",
       " <i class=\"icon-star\"></i>\n",
       " <i class=\"icon-star\"></i>\n",
       " <i class=\"icon-star\"></i>\n",
       " <i class=\"icon-star\"></i>\n",
       " </p>\n",
       " <h3><a href=\"olio_984/index.html\" title=\"Olio\">Olio</a></h3>\n",
       " <div class=\"product_price\">\n",
       " <p class=\"price_color\">Â£23.88</p>\n",
       " <p class=\"instock availability\">\n",
       " <i class=\"icon-ok\"></i>\n",
       "     \n",
       "         In stock\n",
       "     \n",
       " </p>\n",
       " <form>\n",
       " <button class=\"btn btn-primary btn-block\" data-loading-text=\"Adding...\" type=\"submit\">Add to basket</button>\n",
       " </form>\n",
       " </div>\n",
       " </article>,\n",
       " <article class=\"product_pod\">\n",
       " <div class=\"image_container\">\n",
       " <a href=\"mesaerion-the-best-science-fiction-stories-1800-1849_983/index.html\"><img alt=\"Mesaerion: The Best Science Fiction Stories 1800-1849\" class=\"thumbnail\" src=\"../media/cache/09/a3/09a3aef48557576e1a85ba7efea8ecb7.jpg\"/></a>\n",
       " </div>\n",
       " <p class=\"star-rating One\">\n",
       " <i class=\"icon-star\"></i>\n",
       " <i class=\"icon-star\"></i>\n",
       " <i class=\"icon-star\"></i>\n",
       " <i class=\"icon-star\"></i>\n",
       " <i class=\"icon-star\"></i>\n",
       " </p>\n",
       " <h3><a href=\"mesaerion-the-best-science-fiction-stories-1800-1849_983/index.html\" title=\"Mesaerion: The Best Science Fiction Stories 1800-1849\">Mesaerion: The Best Science ...</a></h3>\n",
       " <div class=\"product_price\">\n",
       " <p class=\"price_color\">Â£37.59</p>\n",
       " <p class=\"instock availability\">\n",
       " <i class=\"icon-ok\"></i>\n",
       "     \n",
       "         In stock\n",
       "     \n",
       " </p>\n",
       " <form>\n",
       " <button class=\"btn btn-primary btn-block\" data-loading-text=\"Adding...\" type=\"submit\">Add to basket</button>\n",
       " </form>\n",
       " </div>\n",
       " </article>,\n",
       " <article class=\"product_pod\">\n",
       " <div class=\"image_container\">\n",
       " <a href=\"libertarianism-for-beginners_982/index.html\"><img alt=\"Libertarianism for Beginners\" class=\"thumbnail\" src=\"../media/cache/0b/bc/0bbcd0a6f4bcd81ccb1049a52736406e.jpg\"/></a>\n",
       " </div>\n",
       " <p class=\"star-rating Two\">\n",
       " <i class=\"icon-star\"></i>\n",
       " <i class=\"icon-star\"></i>\n",
       " <i class=\"icon-star\"></i>\n",
       " <i class=\"icon-star\"></i>\n",
       " <i class=\"icon-star\"></i>\n",
       " </p>\n",
       " <h3><a href=\"libertarianism-for-beginners_982/index.html\" title=\"Libertarianism for Beginners\">Libertarianism for Beginners</a></h3>\n",
       " <div class=\"product_price\">\n",
       " <p class=\"price_color\">Â£51.33</p>\n",
       " <p class=\"instock availability\">\n",
       " <i class=\"icon-ok\"></i>\n",
       "     \n",
       "         In stock\n",
       "     \n",
       " </p>\n",
       " <form>\n",
       " <button class=\"btn btn-primary btn-block\" data-loading-text=\"Adding...\" type=\"submit\">Add to basket</button>\n",
       " </form>\n",
       " </div>\n",
       " </article>,\n",
       " <article class=\"product_pod\">\n",
       " <div class=\"image_container\">\n",
       " <a href=\"its-only-the-himalayas_981/index.html\"><img alt=\"It's Only the Himalayas\" class=\"thumbnail\" src=\"../media/cache/27/a5/27a53d0bb95bdd88288eaf66c9230d7e.jpg\"/></a>\n",
       " </div>\n",
       " <p class=\"star-rating Two\">\n",
       " <i class=\"icon-star\"></i>\n",
       " <i class=\"icon-star\"></i>\n",
       " <i class=\"icon-star\"></i>\n",
       " <i class=\"icon-star\"></i>\n",
       " <i class=\"icon-star\"></i>\n",
       " </p>\n",
       " <h3><a href=\"its-only-the-himalayas_981/index.html\" title=\"It's Only the Himalayas\">It's Only the Himalayas</a></h3>\n",
       " <div class=\"product_price\">\n",
       " <p class=\"price_color\">Â£45.17</p>\n",
       " <p class=\"instock availability\">\n",
       " <i class=\"icon-ok\"></i>\n",
       "     \n",
       "         In stock\n",
       "     \n",
       " </p>\n",
       " <form>\n",
       " <button class=\"btn btn-primary btn-block\" data-loading-text=\"Adding...\" type=\"submit\">Add to basket</button>\n",
       " </form>\n",
       " </div>\n",
       " </article>]"
      ]
     },
     "execution_count": 73,
     "metadata": {},
     "output_type": "execute_result"
    }
   ],
   "source": [
    "data.select(\".product_pod\")"
   ]
  },
  {
   "cell_type": "code",
   "execution_count": 75,
   "metadata": {},
   "outputs": [
    {
     "data": {
      "text/plain": [
       "{'class': ['product_pod']}"
      ]
     },
     "execution_count": 75,
     "metadata": {},
     "output_type": "execute_result"
    }
   ],
   "source": [
    "data.select(\".product_pod\")[0].attrs"
   ]
  },
  {
   "cell_type": "code",
   "execution_count": 77,
   "metadata": {},
   "outputs": [
    {
     "data": {
      "text/plain": [
       "<article class=\"product_pod\">\n",
       "<div class=\"image_container\">\n",
       "<a href=\"a-light-in-the-attic_1000/index.html\"><img alt=\"A Light in the Attic\" class=\"thumbnail\" src=\"../media/cache/2c/da/2cdad67c44b002e7ead0cc35693c0e8b.jpg\"/></a>\n",
       "</div>\n",
       "<p class=\"star-rating Three\">\n",
       "<i class=\"icon-star\"></i>\n",
       "<i class=\"icon-star\"></i>\n",
       "<i class=\"icon-star\"></i>\n",
       "<i class=\"icon-star\"></i>\n",
       "<i class=\"icon-star\"></i>\n",
       "</p>\n",
       "<h3><a href=\"a-light-in-the-attic_1000/index.html\" title=\"A Light in the Attic\">A Light in the ...</a></h3>\n",
       "<div class=\"product_price\">\n",
       "<p class=\"price_color\">Â£51.77</p>\n",
       "<p class=\"instock availability\">\n",
       "<i class=\"icon-ok\"></i>\n",
       "    \n",
       "        In stock\n",
       "    \n",
       "</p>\n",
       "<form>\n",
       "<button class=\"btn btn-primary btn-block\" data-loading-text=\"Adding...\" type=\"submit\">Add to basket</button>\n",
       "</form>\n",
       "</div>\n",
       "</article>"
      ]
     },
     "execution_count": 77,
     "metadata": {},
     "output_type": "execute_result"
    }
   ],
   "source": [
    "data.select(\".product_pod\")[0]"
   ]
  },
  {
   "cell_type": "code",
   "execution_count": null,
   "metadata": {},
   "outputs": [],
   "source": []
  }
 ],
 "metadata": {
  "kernelspec": {
   "display_name": "Python 3",
   "language": "python",
   "name": "python3"
  },
  "language_info": {
   "codemirror_mode": {
    "name": "ipython",
    "version": 3
   },
   "file_extension": ".py",
   "mimetype": "text/x-python",
   "name": "python",
   "nbconvert_exporter": "python",
   "pygments_lexer": "ipython3",
   "version": "3.8.3"
  }
 },
 "nbformat": 4,
 "nbformat_minor": 4
}
